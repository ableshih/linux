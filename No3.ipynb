{
 "cells": [
  {
   "cell_type": "code",
   "execution_count": 2,
   "metadata": {},
   "outputs": [
    {
     "data": {
      "text/plain": [
       "True"
      ]
     },
     "execution_count": 2,
     "metadata": {},
     "output_type": "execute_result"
    }
   ],
   "source": [
    "# ch3_1.py\n",
    "import webbrowser\n",
    "webbrowser.open('http://www.google.com')"
   ]
  },
  {
   "cell_type": "code",
   "execution_count": 3,
   "metadata": {},
   "outputs": [
    {
     "name": "stdout",
     "output_type": "stream",
     "text": [
      "請輸入地址 : 基隆市仁愛區港西街5號\n"
     ]
    },
    {
     "data": {
      "text/plain": [
       "True"
      ]
     },
     "execution_count": 3,
     "metadata": {},
     "output_type": "execute_result"
    }
   ],
   "source": [
    "# ch3_2.py\n",
    "import webbrowser\n",
    "\n",
    "address = input(\"請輸入地址 : \")\n",
    "webbrowser.open('http://www.google.com.tw/maps/place/' + address)"
   ]
  },
  {
   "cell_type": "code",
   "execution_count": 4,
   "metadata": {},
   "outputs": [
    {
     "name": "stdout",
     "output_type": "stream",
     "text": [
      "distance =  808.3115099471376\n"
     ]
    }
   ],
   "source": [
    "# ch3_3.py\n",
    "import math\n",
    "\n",
    "r = 6371                        # 地球半徑\n",
    "x1, y1 = 22.2838, 114.1731      # 香港紅磡車站經緯度\n",
    "x2, y2 = 25.0452, 121.5168      # 台北車站經緯度\n",
    "\n",
    "d = 6371*math.acos(math.sin(math.radians(x1))*math.sin(math.radians(x2))+\n",
    "                   math.cos(math.radians(x1))*math.cos(math.radians(x2))*\n",
    "                   math.cos(math.radians(y1-y2)))\n",
    "\n",
    "print(\"distance = \", d)"
   ]
  },
  {
   "cell_type": "code",
   "execution_count": 9,
   "metadata": {},
   "outputs": [
    {
     "name": "stdout",
     "output_type": "stream",
     "text": [
      "<class 'requests.models.Response'>\n"
     ]
    }
   ],
   "source": [
    "# ch3_4.py\n",
    "import requests\n",
    "\n",
    "url = 'http://google.com'\n",
    "htmlfile = requests.get(url)\n",
    "print(type(htmlfile))"
   ]
  },
  {
   "cell_type": "code",
   "execution_count": 11,
   "metadata": {},
   "outputs": [
    {
     "name": "stdout",
     "output_type": "stream",
     "text": [
      "取得網頁內容成功\n"
     ]
    }
   ],
   "source": [
    "# ch3_5.py\n",
    "import requests\n",
    "\n",
    "url = 'http://google.com'\n",
    "htmlfile = requests.get(url)\n",
    "if htmlfile.status_code == requests.codes.ok:\n",
    "    print(\"取得網頁內容成功\")\n",
    "else:\n",
    "    print(\"取得網頁內容失敗\")"
   ]
  },
  {
   "cell_type": "code",
   "execution_count": 12,
   "metadata": {},
   "outputs": [
    {
     "name": "stdout",
     "output_type": "stream",
     "text": [
      "取得網頁內容成功\n",
      "網頁內容大小 =  12449\n"
     ]
    }
   ],
   "source": [
    "# ch3_6.py\n",
    "import requests\n",
    "\n",
    "url = 'http://google.com'\n",
    "htmlfile = requests.get(url)\n",
    "if htmlfile.status_code == requests.codes.ok:\n",
    "    print(\"取得網頁內容成功\")\n",
    "    print(\"網頁內容大小 = \", len(htmlfile.text))\n",
    "else:\n",
    "    print(\"取得網頁內容失敗\")"
   ]
  },
  {
   "cell_type": "code",
   "execution_count": 17,
   "metadata": {},
   "outputs": [
    {
     "name": "stdout",
     "output_type": "stream",
     "text": [
      "取得網頁內容成功\n",
      "<html><head><meta http-equiv=\"Refresh\" content=\"0; url=do/\"></head></html>\n",
      "\n"
     ]
    }
   ],
   "source": [
    "# ch3_7.py\n",
    "import requests\n",
    "\n",
    "url = 'https://www.dinbendon.net/'\n",
    "htmlfile = requests.get(url)\n",
    "if htmlfile.status_code == requests.codes.ok:\n",
    "    print(\"取得網頁內容成功\")\n",
    "else:\n",
    "    print(\"取得網頁內容失敗\")\n",
    "print(htmlfile.text)            # 列印網頁內容"
   ]
  },
  {
   "cell_type": "code",
   "execution_count": 18,
   "metadata": {},
   "outputs": [
    {
     "name": "stdout",
     "output_type": "stream",
     "text": [
      "請輸入欲搜尋的字串 : url\n",
      "搜尋 url 成功\n",
      "url 出現 1 次\n"
     ]
    }
   ],
   "source": [
    "# ch3_8.py\n",
    "import requests\n",
    "import re\n",
    "\n",
    "url = 'https://www.dinbendon.net/'\n",
    "htmlfile = requests.get(url)\n",
    "if htmlfile.status_code == requests.codes.ok:\n",
    "    pattern = input(\"請輸入欲搜尋的字串 : \")    # pattern存放欲搜尋的字串\n",
    "# 使用方法1\n",
    "    if pattern in htmlfile.text:                # 方法1\n",
    "        print(\"搜尋 %s 成功\" % pattern)\n",
    "    else:\n",
    "        print(\"搜尋 %s 失敗\" % pattern)\n",
    "    # 使用方法2, 如果找到放在串列name內\n",
    "    name = re.findall(pattern, htmlfile.text)   # 方法2\n",
    "    if name != None:\n",
    "        print(\"%s 出現 %d 次\" % (pattern, len(name)))\n",
    "    else:\n",
    "        print(\"%s 出現 0 次\" % pattern)\n",
    "else:\n",
    "    print(\"網頁下載失敗\")"
   ]
  },
  {
   "cell_type": "code",
   "execution_count": 20,
   "metadata": {},
   "outputs": [
    {
     "name": "stdout",
     "output_type": "stream",
     "text": [
      "下載成功\n",
      "程式結束\n"
     ]
    }
   ],
   "source": [
    "# ch3_9.py\n",
    "import requests\n",
    "\n",
    "url = 'https://www.dinbendon.net/'  # 不存在的內容\n",
    "htmlfile = requests.get(url)\n",
    "try:\n",
    "    htmlfile.raise_for_status()                 # 異常處理\n",
    "    print(\"下載成功\")\n",
    "except Exception as err:                        # err是系統自訂的錯誤訊息\n",
    "    print(\"網頁下載失敗: %s\" % err)\n",
    "print(\"程式結束\")"
   ]
  },
  {
   "cell_type": "code",
   "execution_count": 23,
   "metadata": {},
   "outputs": [
    {
     "name": "stdout",
     "output_type": "stream",
     "text": [
      "網頁下載失敗: 404 Client Error: Not Found for url: https://www.dinbendon.net/existed\n",
      "程式結束\n"
     ]
    }
   ],
   "source": [
    "# ch3_10.py\n",
    "import requests\n",
    "\n",
    "url = 'https://www.dinbendon.net/existed'  # 錯誤的網址\n",
    "htmlfile = requests.get(url)\n",
    "try:\n",
    "    htmlfile.raise_for_status()                 # 異常處理\n",
    "    print(\"下載成功\")\n",
    "except Exception as err:                        # err是系統自訂的錯誤訊息\n",
    "    print(\"網頁下載失敗: %s\" % err)\n",
    "print(\"程式結束\")"
   ]
  },
  {
   "cell_type": "code",
   "execution_count": 25,
   "metadata": {},
   "outputs": [
    {
     "name": "stdout",
     "output_type": "stream",
     "text": [
      "下載成功\n",
      "程式結束\n"
     ]
    }
   ],
   "source": [
    "# ch3_11.py\n",
    "import requests\n",
    "\n",
    "url = 'https://www.dinbendon.net/'  # 錯誤的網址\n",
    "try:\n",
    "    htmlfile = requests.get(url)\n",
    "    print(\"下載成功\")\n",
    "except Exception as err:                        # err是系統自訂的錯誤訊息\n",
    "    print(\"網頁下載失敗: %s\" % err)\n",
    "print(\"程式結束\")"
   ]
  },
  {
   "cell_type": "code",
   "execution_count": 31,
   "metadata": {},
   "outputs": [
    {
     "ename": "HTTPError",
     "evalue": "404 Client Error: Not Found for url: https://www.dinbendon.net/1",
     "output_type": "error",
     "traceback": [
      "\u001b[1;31m---------------------------------------------------------------------------\u001b[0m",
      "\u001b[1;31mHTTPError\u001b[0m                                 Traceback (most recent call last)",
      "\u001b[1;32m<ipython-input-31-03046c59e4dc>\u001b[0m in \u001b[0;36m<module>\u001b[1;34m\u001b[0m\n\u001b[0;32m      4\u001b[0m \u001b[0murl\u001b[0m \u001b[1;33m=\u001b[0m \u001b[1;34m'https://www.dinbendon.net/1'\u001b[0m\u001b[1;33m\u001b[0m\u001b[1;33m\u001b[0m\u001b[0m\n\u001b[0;32m      5\u001b[0m \u001b[0mhtmlfile\u001b[0m \u001b[1;33m=\u001b[0m \u001b[0mrequests\u001b[0m\u001b[1;33m.\u001b[0m\u001b[0mget\u001b[0m\u001b[1;33m(\u001b[0m\u001b[0murl\u001b[0m\u001b[1;33m)\u001b[0m\u001b[1;33m\u001b[0m\u001b[1;33m\u001b[0m\u001b[0m\n\u001b[1;32m----> 6\u001b[1;33m \u001b[0mhtmlfile\u001b[0m\u001b[1;33m.\u001b[0m\u001b[0mraise_for_status\u001b[0m\u001b[1;33m(\u001b[0m\u001b[1;33m)\u001b[0m\u001b[1;33m\u001b[0m\u001b[1;33m\u001b[0m\u001b[0m\n\u001b[0m",
      "\u001b[1;32mC:\\ProgramData\\Anaconda3\\lib\\site-packages\\requests\\models.py\u001b[0m in \u001b[0;36mraise_for_status\u001b[1;34m(self)\u001b[0m\n\u001b[0;32m    938\u001b[0m \u001b[1;33m\u001b[0m\u001b[0m\n\u001b[0;32m    939\u001b[0m         \u001b[1;32mif\u001b[0m \u001b[0mhttp_error_msg\u001b[0m\u001b[1;33m:\u001b[0m\u001b[1;33m\u001b[0m\u001b[1;33m\u001b[0m\u001b[0m\n\u001b[1;32m--> 940\u001b[1;33m             \u001b[1;32mraise\u001b[0m \u001b[0mHTTPError\u001b[0m\u001b[1;33m(\u001b[0m\u001b[0mhttp_error_msg\u001b[0m\u001b[1;33m,\u001b[0m \u001b[0mresponse\u001b[0m\u001b[1;33m=\u001b[0m\u001b[0mself\u001b[0m\u001b[1;33m)\u001b[0m\u001b[1;33m\u001b[0m\u001b[1;33m\u001b[0m\u001b[0m\n\u001b[0m\u001b[0;32m    941\u001b[0m \u001b[1;33m\u001b[0m\u001b[0m\n\u001b[0;32m    942\u001b[0m     \u001b[1;32mdef\u001b[0m \u001b[0mclose\u001b[0m\u001b[1;33m(\u001b[0m\u001b[0mself\u001b[0m\u001b[1;33m)\u001b[0m\u001b[1;33m:\u001b[0m\u001b[1;33m\u001b[0m\u001b[1;33m\u001b[0m\u001b[0m\n",
      "\u001b[1;31mHTTPError\u001b[0m: 404 Client Error: Not Found for url: https://www.dinbendon.net/1"
     ]
    }
   ],
   "source": [
    "# ch3_12.py\n",
    "import requests\n",
    "\n",
    "url = 'https://www.dinbendon.net/1'\n",
    "htmlfile = requests.get(url)\n",
    "htmlfile.raise_for_status()"
   ]
  },
  {
   "cell_type": "code",
   "execution_count": 34,
   "metadata": {},
   "outputs": [
    {
     "ename": "HTTPError",
     "evalue": "404 Client Error: Not Found for url: https://www.dinbendon.net/q",
     "output_type": "error",
     "traceback": [
      "\u001b[1;31m---------------------------------------------------------------------------\u001b[0m",
      "\u001b[1;31mHTTPError\u001b[0m                                 Traceback (most recent call last)",
      "\u001b[1;32m<ipython-input-34-d5e539264d6e>\u001b[0m in \u001b[0;36m<module>\u001b[1;34m\u001b[0m\n\u001b[0;32m      4\u001b[0m \u001b[0murl\u001b[0m \u001b[1;33m=\u001b[0m \u001b[1;34m'https://www.dinbendon.net/q'\u001b[0m\u001b[1;33m\u001b[0m\u001b[1;33m\u001b[0m\u001b[0m\n\u001b[0;32m      5\u001b[0m \u001b[0mhtmlfile\u001b[0m \u001b[1;33m=\u001b[0m \u001b[0mrequests\u001b[0m\u001b[1;33m.\u001b[0m\u001b[0mget\u001b[0m\u001b[1;33m(\u001b[0m\u001b[0murl\u001b[0m\u001b[1;33m)\u001b[0m\u001b[1;33m\u001b[0m\u001b[1;33m\u001b[0m\u001b[0m\n\u001b[1;32m----> 6\u001b[1;33m \u001b[0mhtmlfile\u001b[0m\u001b[1;33m.\u001b[0m\u001b[0mraise_for_status\u001b[0m\u001b[1;33m(\u001b[0m\u001b[1;33m)\u001b[0m\u001b[1;33m\u001b[0m\u001b[1;33m\u001b[0m\u001b[0m\n\u001b[0m",
      "\u001b[1;32mC:\\ProgramData\\Anaconda3\\lib\\site-packages\\requests\\models.py\u001b[0m in \u001b[0;36mraise_for_status\u001b[1;34m(self)\u001b[0m\n\u001b[0;32m    938\u001b[0m \u001b[1;33m\u001b[0m\u001b[0m\n\u001b[0;32m    939\u001b[0m         \u001b[1;32mif\u001b[0m \u001b[0mhttp_error_msg\u001b[0m\u001b[1;33m:\u001b[0m\u001b[1;33m\u001b[0m\u001b[1;33m\u001b[0m\u001b[0m\n\u001b[1;32m--> 940\u001b[1;33m             \u001b[1;32mraise\u001b[0m \u001b[0mHTTPError\u001b[0m\u001b[1;33m(\u001b[0m\u001b[0mhttp_error_msg\u001b[0m\u001b[1;33m,\u001b[0m \u001b[0mresponse\u001b[0m\u001b[1;33m=\u001b[0m\u001b[0mself\u001b[0m\u001b[1;33m)\u001b[0m\u001b[1;33m\u001b[0m\u001b[1;33m\u001b[0m\u001b[0m\n\u001b[0m\u001b[0;32m    941\u001b[0m \u001b[1;33m\u001b[0m\u001b[0m\n\u001b[0;32m    942\u001b[0m     \u001b[1;32mdef\u001b[0m \u001b[0mclose\u001b[0m\u001b[1;33m(\u001b[0m\u001b[0mself\u001b[0m\u001b[1;33m)\u001b[0m\u001b[1;33m:\u001b[0m\u001b[1;33m\u001b[0m\u001b[1;33m\u001b[0m\u001b[0m\n",
      "\u001b[1;31mHTTPError\u001b[0m: 404 Client Error: Not Found for url: https://www.dinbendon.net/q"
     ]
    }
   ],
   "source": [
    "# ch3_12_1.py\n",
    "import requests\n",
    "\n",
    "url = 'https://www.dinbendon.net/q'\n",
    "htmlfile = requests.get(url)\n",
    "htmlfile.raise_for_status()"
   ]
  },
  {
   "cell_type": "code",
   "execution_count": 35,
   "metadata": {},
   "outputs": [
    {
     "name": "stdout",
     "output_type": "stream",
     "text": [
      "偽裝瀏覽器擷取網路資料成功\n"
     ]
    }
   ],
   "source": [
    "# ch3_13.py\n",
    "import requests\n",
    "\n",
    "headers = { 'User-Agent':'Mozilla/5.0 (Windows NT 6.1; WOW64)\\\n",
    "            AppleWebKit/537.36 (KHTML, like Gecko) Chrome/45.0.2454.101\\\n",
    "            Safari/537.36', }\n",
    "url = 'http://aaa.24ht.com.tw/'\n",
    "htmlfile = requests.get(url, headers=headers)\n",
    "htmlfile.raise_for_status()\n",
    "print(\"偽裝瀏覽器擷取網路資料成功\")"
   ]
  },
  {
   "cell_type": "code",
   "execution_count": 36,
   "metadata": {},
   "outputs": [
    {
     "name": "stdout",
     "output_type": "stream",
     "text": [
      "偽裝瀏覽器擷取網路資料成功\n"
     ]
    }
   ],
   "source": [
    "# ch3_13_1.py\n",
    "import requests\n",
    "\n",
    "headers = { 'User-Agent':'Mozilla/5.0 (Windows NT 6.1; WOW64)\\\n",
    "            AppleWebKit/537.36 (KHTML, like Gecko) Chrome/45.0.2454.101\\\n",
    "            Safari/537.36', }\n",
    "url = 'https://www.kingstone.com.tw/new/basic/2013120504769?zone=book&lid=search&actid=WISE'\n",
    "htmlfile = requests.get(url, headers=headers)\n",
    "htmlfile.raise_for_status()\n",
    "print(\"偽裝瀏覽器擷取網路資料成功\")"
   ]
  },
  {
   "cell_type": "code",
   "execution_count": 37,
   "metadata": {},
   "outputs": [
    {
     "name": "stdout",
     "output_type": "stream",
     "text": [
      "偽裝瀏覽器擷取網路資料成功\n"
     ]
    }
   ],
   "source": [
    "# ch3_13_2.py\n",
    "import requests\n",
    "\n",
    "headers = { 'User-Agent': 'Mozilla/5.0 (Windows NT 10.0; Win64; x64)'\n",
    "                          'AppleWebKit/537.36 (KHTML, like Gecko)'\n",
    "                          'Chrome/75.0.3770.142 Safari/537.36', }\n",
    "url = 'https://www.kingstone.com.tw/new/basic/2013120504769?zone=book&lid=search&actid=WISE'\n",
    "htmlfile = requests.get(url, headers=headers)\n",
    "htmlfile.raise_for_status()\n",
    "print(\"偽裝瀏覽器擷取網路資料成功\")"
   ]
  },
  {
   "cell_type": "code",
   "execution_count": 38,
   "metadata": {},
   "outputs": [
    {
     "name": "stdout",
     "output_type": "stream",
     "text": [
      "下載成功\n",
      "757\n",
      "以 out3_14.txt 儲存網頁HTML檔案成功\n"
     ]
    }
   ],
   "source": [
    "# ch3_14.py\n",
    "import requests\n",
    "\n",
    "url = 'http://www.deepmind.com.tw'                     # 網址\n",
    "try:\n",
    "    htmlfile = requests.get(url)\n",
    "    print(\"下載成功\")\n",
    "except Exception as err:                                # err是系統自訂的錯誤訊息\n",
    "    print(\"網頁下載失敗: %s\" % err)\n",
    "# 儲存網頁內容\n",
    "fn = 'out3_14.txt'\n",
    "with open(fn, 'wb') as file_Obj:                        # 以二進位儲存\n",
    "    for diskStorage in htmlfile.iter_content(40960):    # Response物件處理\n",
    "        size = file_Obj.write(diskStorage)              # Response物件寫入\n",
    "        print(size)                                     # 列出每次寫入大小\n",
    "    print(\"以 %s 儲存網頁HTML檔案成功\" % fn)"
   ]
  },
  {
   "cell_type": "code",
   "execution_count": 40,
   "metadata": {},
   "outputs": [
    {
     "name": "stdout",
     "output_type": "stream",
     "text": [
      "<class 'http.client.HTTPResponse'>\n",
      "<http.client.HTTPResponse object at 0x00F8E890>\n"
     ]
    }
   ],
   "source": [
    "# ch3_15.py\n",
    "import urllib.request\n",
    "\n",
    "url = 'https://www.dinbendon.net/'\n",
    "htmlfile = urllib.request.urlopen(url)\n",
    "print(type(htmlfile))\n",
    "print(htmlfile)"
   ]
  },
  {
   "cell_type": "code",
   "execution_count": 41,
   "metadata": {},
   "outputs": [
    {
     "name": "stdout",
     "output_type": "stream",
     "text": [
      "b'<html><head><meta http-equiv=\"Refresh\" content=\"0; url=do/\"></head></html>\\n'\n"
     ]
    }
   ],
   "source": [
    "# ch3_16.py\n",
    "import urllib.request\n",
    "\n",
    "url = 'https://www.dinbendon.net/'\n",
    "htmlfile = urllib.request.urlopen(url)\n",
    "print(htmlfile.read())"
   ]
  },
  {
   "cell_type": "code",
   "execution_count": 51,
   "metadata": {},
   "outputs": [
    {
     "name": "stdout",
     "output_type": "stream",
     "text": [
      "<html><head><title>share.qclt.com - /东南凌绅维修手册/Savrin/</title></head><body><H1>share.qclt.com - /东南凌绅维修手册/Savrin/</H1><hr>\r\n",
      "\r\n",
      "<pre><A HREF=\"/%E4%B8%9C%E5%8D%97%E5%87%8C%E7%BB%85%E7%BB%B4%E4%BF%AE%E6%89%8B%E5%86%8C/\">[To Parent Directory]</A><br><br>2010/12/21    15:56        &lt;dir&gt; <A HREF=\"/%E4%B8%9C%E5%8D%97%E5%87%8C%E7%BB%85%E7%BB%B4%E4%BF%AE%E6%89%8B%E5%86%8C/Savrin/%E5%B7%A5%E4%BD%9C%E6%89%8B%E5%86%8A/\">工作手冊</A><br>2010/12/21    15:56        &lt;dir&gt; <A HREF=\"/%E4%B8%9C%E5%8D%97%E5%87%8C%E7%BB%85%E7%BB%B4%E4%BF%AE%E6%89%8B%E5%86%8C/Savrin/%E9%9B%B6%E4%BB%B6%E5%86%8A/\">零件冊</A><br></pre><hr></body></html>\n"
     ]
    }
   ],
   "source": [
    "# ch3_17.py\n",
    "import urllib.request\n",
    "\n",
    "url = 'https://share.qclt.com/%E4%B8%9C%E5%8D%97%E5%87%8C%E7%BB%85%E7%BB%B4%E4%BF%AE%E6%89%8B%E5%86%8C/Savrin/'\n",
    "htmlfile = urllib.request.urlopen(url)\n",
    "print(htmlfile.read().decode('utf-8'))"
   ]
  },
  {
   "cell_type": "code",
   "execution_count": 52,
   "metadata": {},
   "outputs": [
    {
     "name": "stdout",
     "output_type": "stream",
     "text": [
      "版本 :  11\n",
      "網址 :  https://www.dinbendon.net/\n",
      "下載 :  200\n",
      "表頭 : \n",
      "('Server', 'nginx/1.16.1')\n",
      "('Date', 'Sun, 17 May 2020 13:00:54 GMT')\n",
      "('Content-Type', 'text/html')\n",
      "('Content-Length', '75')\n",
      "('Connection', 'close')\n",
      "('ETag', 'W/\"75-1412665918000\"')\n",
      "('Last-Modified', 'Tue, 07 Oct 2014 07:11:58 GMT')\n",
      "('Strict-Transport-Security', 'max-age=31536000')\n",
      "('P3P', 'CP=\"ALL ADM DEV PSAi COM OUR OTRo STP IND ONL\"')\n",
      "('X-Cache-Status', 'MISS')\n",
      "('Accept-Ranges', 'bytes')\n"
     ]
    }
   ],
   "source": [
    "# ch3_18.py\n",
    "import urllib.request\n",
    "\n",
    "url = 'https://www.dinbendon.net/'\n",
    "htmlfile = urllib.request.urlopen(url)\n",
    "print('版本 : ', htmlfile.version)\n",
    "print('網址 : ', htmlfile.geturl())\n",
    "print('下載 : ', htmlfile.status)\n",
    "print('表頭 : ')\n",
    "for header in htmlfile.getheaders():\n",
    "    print(header)"
   ]
  },
  {
   "cell_type": "code",
   "execution_count": 55,
   "metadata": {},
   "outputs": [
    {
     "name": "stdout",
     "output_type": "stream",
     "text": [
      "<html><head><title>share.qclt.com - /东南凌绅维修手册/Savrin/</title></head><body><H1>share.qclt.com - /东南凌绅维修手册/Savrin/</H1><hr>\r\n",
      "\r\n",
      "<pre><A HREF=\"/%E4%B8%9C%E5%8D%97%E5%87%8C%E7%BB%85%E7%BB%B4%E4%BF%AE%E6%89%8B%E5%86%8C/\">[To Parent Directory]</A><br><br>2010/12/21    15:56        &lt;dir&gt; <A HREF=\"/%E4%B8%9C%E5%8D%97%E5%87%8C%E7%BB%85%E7%BB%B4%E4%BF%AE%E6%89%8B%E5%86%8C/Savrin/%E5%B7%A5%E4%BD%9C%E6%89%8B%E5%86%8A/\">工作手冊</A><br>2010/12/21    15:56        &lt;dir&gt; <A HREF=\"/%E4%B8%9C%E5%8D%97%E5%87%8C%E7%BB%85%E7%BB%B4%E4%BF%AE%E6%89%8B%E5%86%8C/Savrin/%E9%9B%B6%E4%BB%B6%E5%86%8A/\">零件冊</A><br></pre><hr></body></html>\n"
     ]
    }
   ],
   "source": [
    "# ch3_19.py\n",
    "import urllib.request\n",
    "\n",
    "headers = { 'User-Agent':'Mozilla/5.0 (Windows NT 6.1; WOW64)\\\n",
    "            AppleWebKit/537.36 (KHTML, like Gecko) Chrome/45.0.2454.101\\\n",
    "            Safari/537.36', }\n",
    "url = 'https://share.qclt.com/%E4%B8%9C%E5%8D%97%E5%87%8C%E7%BB%85%E7%BB%B4%E4%BF%AE%E6%89%8B%E5%86%8C/Savrin/'\n",
    "req = urllib.request.Request(url, headers=headers)\n",
    "htmlfile = urllib.request.urlopen(req)\n",
    "print(htmlfile.read().decode('utf-8'))"
   ]
  },
  {
   "cell_type": "code",
   "execution_count": 58,
   "metadata": {},
   "outputs": [],
   "source": [
    "# ch3_20.py\n",
    "import urllib.request\n",
    "\n",
    "url_pict = 'https://www.google.com/images/branding/googlelogo/1x/googlelogo_color_272x92dp.png'\n",
    "fn = 'saved.png'\n",
    "pict = urllib.request.urlretrieve(url_pict,fn)"
   ]
  },
  {
   "cell_type": "code",
   "execution_count": 59,
   "metadata": {},
   "outputs": [
    {
     "name": "stdout",
     "output_type": "stream",
     "text": [
      "URL編碼  :  %E5%8F%B0%E7%81%A3%E7%A9%8D%E9%AB%94%E9%9B%BB%E8%B7%AF%E8%A3%BD%E9%80%A0\n",
      "中文編碼 :  台灣積體電路製造\n"
     ]
    }
   ],
   "source": [
    "# ch3_21.py\n",
    "from urllib import parse\n",
    "\n",
    "s = '台灣積體電路製造'\n",
    "url_code = parse.quote(s)\n",
    "print('URL編碼  : ', url_code)\n",
    "code = parse.unquote(url_code)\n",
    "print('中文編碼 : ', code)"
   ]
  },
  {
   "cell_type": "code",
   "execution_count": 60,
   "metadata": {},
   "outputs": [
    {
     "name": "stdout",
     "output_type": "stream",
     "text": [
      "<class 'urllib.parse.ParseResult'>\n",
      "ParseResult(scheme='https', netloc='docs.python.org', path='/3/search.html', params='', query='q=parse&check_keywords=yes&area=default', fragment='')\n",
      "scheme   =  https\n",
      "netloc   =  docs.python.org\n",
      "path     =  /3/search.html\n",
      "params   =  \n",
      "query    =  q=parse&check_keywords=yes&area=default\n",
      "fragment =  \n"
     ]
    }
   ],
   "source": [
    "# ch3_22.py\n",
    "from urllib import parse\n",
    "\n",
    "url = 'https://docs.python.org/3/search.html?q=parse&check_keywords=yes&area=default'\n",
    "urp = parse.urlparse(url)\n",
    "print(type(urp))\n",
    "print(urp)\n",
    "print('scheme   = ', urp.scheme)\n",
    "print('netloc   = ', urp.netloc)\n",
    "print('path     = ', urp.path)\n",
    "print('params   = ', urp.params)\n",
    "print('query    = ', urp.query)\n",
    "print('fragment = ', urp.fragment)"
   ]
  },
  {
   "cell_type": "code",
   "execution_count": 61,
   "metadata": {},
   "outputs": [
    {
     "name": "stdout",
     "output_type": "stream",
     "text": [
      "<class 'urllib.parse.SplitResult'>\n",
      "SplitResult(scheme='https', netloc='docs.python.org', path='/3/search.html', query='q=parse&check_keywords=yes&area=default', fragment='')\n",
      "scheme   =  https\n",
      "netloc   =  docs.python.org\n",
      "path     =  /3/search.html\n",
      "query    =  q=parse&check_keywords=yes&area=default\n",
      "fragment =  \n"
     ]
    }
   ],
   "source": [
    "# ch3_23.py\n",
    "from urllib import parse\n",
    "\n",
    "url = 'https://docs.python.org/3/search.html?q=parse&check_keywords=yes&area=default'\n",
    "urp = parse.urlsplit(url)\n",
    "print(type(urp))\n",
    "print(urp)\n",
    "print('scheme   = ', urp.scheme)\n",
    "print('netloc   = ', urp.netloc)\n",
    "print('path     = ', urp.path)\n",
    "print('query    = ', urp.query)\n",
    "print('fragment = ', urp.fragment)"
   ]
  },
  {
   "cell_type": "code",
   "execution_count": 62,
   "metadata": {},
   "outputs": [
    {
     "name": "stdout",
     "output_type": "stream",
     "text": [
      "https://docs.python.org/3/search.html?q=parse&check_keywords=yes&area=default\n",
      "https://docs.python.org/3/search.html?q=parse&check_keywords=yes&area=default\n"
     ]
    }
   ],
   "source": [
    "# ch3_24.py\n",
    "from urllib import parse\n",
    "\n",
    "scheme = 'https'\n",
    "netloc  = 'docs.python.org'\n",
    "path = '/3/search.html'\n",
    "params = ''\n",
    "query = 'q=parse&check_keywords=yes&area=default'\n",
    "frament = ''\n",
    "url_unparse = parse.urlunparse((scheme,netloc,path,params,query,frament))\n",
    "print(url_unparse)\n",
    "url_unsplit = parse.urlunsplit([scheme,netloc,path,query,frament])\n",
    "print(url_unsplit)"
   ]
  },
  {
   "cell_type": "code",
   "execution_count": 63,
   "metadata": {},
   "outputs": [
    {
     "name": "stdout",
     "output_type": "stream",
     "text": [
      "https://docs.python.org/3/search.html?q=parse&check_keywords=yes&area=default\n"
     ]
    }
   ],
   "source": [
    "# ch3_25.py\n",
    "from urllib import parse\n",
    "\n",
    "url_python = 'https://docs.python.org/3/search.html?'\n",
    "query = {\n",
    "         'q':'parse',\n",
    "         'check_keywords':'yes',\n",
    "         'area':'default'}\n",
    "url = url_python + parse.urlencode(query)\n",
    "print(url)"
   ]
  },
  {
   "cell_type": "code",
   "execution_count": 64,
   "metadata": {},
   "outputs": [
    {
     "name": "stdout",
     "output_type": "stream",
     "text": [
      "parse.parse_qs  =  {'q': ['parse'], 'check_keywords': ['yes'], 'area': ['default']}\n",
      "parse.parse_qsl =  [('q', 'parse'), ('check_keywords', 'yes'), ('area', 'default')]\n"
     ]
    }
   ],
   "source": [
    "# ch3_26.py\n",
    "from urllib import parse\n",
    "\n",
    "query_str = 'q=parse&check_keywords=yes&area=default'\n",
    "print('parse.parse_qs  = ', parse.parse_qs(query_str))\n",
    "print('parse.parse_qsl = ', parse.parse_qsl(query_str))"
   ]
  },
  {
   "cell_type": "code",
   "execution_count": 65,
   "metadata": {},
   "outputs": [
    {
     "name": "stdout",
     "output_type": "stream",
     "text": [
      "錯誤原因 :  [Errno 11001] getaddrinfo failed\n",
      "擷取網路資料成功\n"
     ]
    }
   ],
   "source": [
    "# ch3_27.py\n",
    "from urllib import request, error\n",
    "\n",
    "headers = { 'User-Agent':'Mozilla/5.0 (Windows NT 6.1; WOW64)\\\n",
    "            AppleWebKit/537.36 (KHTML, like Gecko) Chrome/45.0.2454.101\\\n",
    "            Safari/537.36', }\n",
    "# 錯誤網址\n",
    "url_error = 'http://aaa.24t.com.tw/'            # 錯誤網址\n",
    "try:\n",
    "    htmlfile = request.urlopen(url_error)\n",
    "except error.URLError as e:\n",
    "    print('錯誤原因 : ', e.reason)\n",
    "else:\n",
    "    print(\"擷取網路資料成功\")\n",
    "# 正確網址\n",
    "url = 'http://aaa.24ht.com.tw/'                 # 網址正確\n",
    "try:\n",
    "    req = request.Request(url, headers=headers)\n",
    "    htmlfile = request.urlopen(req)\n",
    "except error.URLError as e:\n",
    "    print('錯誤原因 : ', e.reason)\n",
    "else:\n",
    "    print(\"擷取網路資料成功\")"
   ]
  },
  {
   "cell_type": "code",
   "execution_count": 66,
   "metadata": {},
   "outputs": [
    {
     "name": "stdout",
     "output_type": "stream",
     "text": [
      "錯誤原因 :  [Errno 11001] getaddrinfo failed\n",
      "----------------------------------------------------------------------\n",
      "錯誤代碼 :  406\n",
      "錯誤原因 :  Not Acceptable\n",
      "回應表頭 :  Date: Sun, 17 May 2020 13:09:01 GMT\n",
      "Server: Apache\n",
      "Accept-Ranges: bytes\n",
      "Connection: close\n",
      "Transfer-Encoding: chunked\n",
      "Content-Type: text/html\n",
      "\n",
      "\n",
      "----------------------------------------------------------------------\n",
      "擷取網路資料成功\n"
     ]
    }
   ],
   "source": [
    "# ch3_28.py\n",
    "from urllib import request, error\n",
    "\n",
    "headers = { 'User-Agent':'Mozilla/5.0 (Windows NT 6.1; WOW64)\\\n",
    "            AppleWebKit/537.36 (KHTML, like Gecko) Chrome/45.0.2454.101\\\n",
    "            Safari/537.36', }\n",
    "# 錯誤1\n",
    "url_error = 'http://aaa.24t.com.tw/'            # 錯誤網址\n",
    "try:\n",
    "    htmlfile = request.urlopen(url_error)\n",
    "except error.HTTPError as e:\n",
    "    print('錯誤代碼 : ', e.code)\n",
    "    print('錯誤原因 : ', e.reason)\n",
    "    print('回應表頭 : ', e.headers)\n",
    "except error.URLError as e:\n",
    "    print('錯誤原因 : ', e.reason)\n",
    "else:\n",
    "    print(\"擷取網路資料成功\")\n",
    "print('-'*70)\n",
    "# 錯誤2\n",
    "url = 'http://aaa.24ht.com.tw/'                 # 網址正確\n",
    "try:\n",
    "    htmlfile = request.urlopen(url)\n",
    "except error.HTTPError as e:\n",
    "    print('錯誤代碼 : ', e.code)\n",
    "    print('錯誤原因 : ', e.reason)\n",
    "    print('回應表頭 : ', e.headers)    \n",
    "except error.URLError as e:\n",
    "    print('錯誤原因 : ', e.reason)    \n",
    "else:\n",
    "    print(\"擷取網路資料成功\")\n",
    "print('-'*70)\n",
    "# 正確\n",
    "url = 'http://aaa.24ht.com.tw/'                 # 網址正確\n",
    "try:\n",
    "    req = request.Request(url, headers=headers)\n",
    "    htmlfile = request.urlopen(req)\n",
    "except error.HTTPError as e:\n",
    "    print('錯誤代碼 : ', e.code)\n",
    "    print('錯誤原因 : ', e.reason)\n",
    "    print('回應表頭 : ', e.headers)    \n",
    "except error.URLError as e:\n",
    "    print('錯誤原因 : ', e.reason)\n",
    "else:\n",
    "    print(\"擷取網路資料成功\")"
   ]
  },
  {
   "cell_type": "code",
   "execution_count": 68,
   "metadata": {},
   "outputs": [
    {
     "name": "stdout",
     "output_type": "stream",
     "text": [
      "https://www.dinbendon.net/\n"
     ]
    }
   ],
   "source": [
    "# ch3_29.py\n",
    "import requests\n",
    "\n",
    "url = 'https://www.dinbendon.net/'\n",
    "r = requests.get(url)\n",
    "print(r.url)"
   ]
  },
  {
   "cell_type": "code",
   "execution_count": 71,
   "metadata": {},
   "outputs": [
    {
     "name": "stdout",
     "output_type": "stream",
     "text": [
      "https://www.dinbendon.net/?gender=M&page=1\n"
     ]
    }
   ],
   "source": [
    "# ch3_30.py\n",
    "import requests\n",
    "\n",
    "url = 'https://www.dinbendon.net/'\n",
    "form_data = {'gender':'M','page':'1'}\n",
    "r = requests.get(url, params=form_data)\n",
    "print(r.url)"
   ]
  },
  {
   "cell_type": "code",
   "execution_count": 73,
   "metadata": {},
   "outputs": [
    {
     "name": "stdout",
     "output_type": "stream",
     "text": [
      "https://www.httpbin.org/post\n",
      "----------------------------------------------------------------------\n",
      "{\n",
      "  \"args\": {}, \n",
      "  \"data\": \"\", \n",
      "  \"files\": {}, \n",
      "  \"form\": {\n",
      "    \"gender\": \"M\", \n",
      "    \"page\": \"1\"\n",
      "  }, \n",
      "  \"headers\": {\n",
      "    \"Accept\": \"*/*\", \n",
      "    \"Accept-Encoding\": \"gzip, deflate\", \n",
      "    \"Content-Length\": \"15\", \n",
      "    \"Content-Type\": \"application/x-www-form-urlencoded\", \n",
      "    \"Host\": \"www.httpbin.org\", \n",
      "    \"User-Agent\": \"python-requests/2.22.0\", \n",
      "    \"X-Amzn-Trace-Id\": \"Root=1-5ec13813-6b1d547315da438c6409cce1\"\n",
      "  }, \n",
      "  \"json\": null, \n",
      "  \"origin\": \"182.233.165.144\", \n",
      "  \"url\": \"https://www.httpbin.org/post\"\n",
      "}\n",
      "\n"
     ]
    }
   ],
   "source": [
    "# ch3_31.py\n",
    "import requests\n",
    "\n",
    "url = 'https://www.httpbin.org/post'\n",
    "form_data = {'gender':'M','page':'1'}\n",
    "r = requests.post(url, data=form_data)\n",
    "print(r.url)\n",
    "print('-'*70)\n",
    "print(r.text)"
   ]
  },
  {
   "cell_type": "code",
   "execution_count": 74,
   "metadata": {},
   "outputs": [
    {
     "name": "stdout",
     "output_type": "stream",
     "text": [
      "https://www.httpbin.org/post\n",
      "----------------------------------------------------------------------\n",
      "{\n",
      "  \"args\": {}, \n",
      "  \"data\": \"{\\\"gender\\\": \\\"M\\\", \\\"page\\\": \\\"1\\\"}\", \n",
      "  \"files\": {}, \n",
      "  \"form\": {}, \n",
      "  \"headers\": {\n",
      "    \"Accept\": \"*/*\", \n",
      "    \"Accept-Encoding\": \"gzip, deflate\", \n",
      "    \"Content-Length\": \"28\", \n",
      "    \"Host\": \"www.httpbin.org\", \n",
      "    \"User-Agent\": \"python-requests/2.22.0\", \n",
      "    \"X-Amzn-Trace-Id\": \"Root=1-5ec13835-4bbd1028e8afe49097e10d98\"\n",
      "  }, \n",
      "  \"json\": {\n",
      "    \"gender\": \"M\", \n",
      "    \"page\": \"1\"\n",
      "  }, \n",
      "  \"origin\": \"182.233.165.144\", \n",
      "  \"url\": \"https://www.httpbin.org/post\"\n",
      "}\n",
      "\n"
     ]
    }
   ],
   "source": [
    "# ch3_32.py\n",
    "import requests, json\n",
    "\n",
    "url = 'https://www.httpbin.org/post'\n",
    "form_data = {'gender':'M','page':'1'}\n",
    "r = requests.post(url, data=json.dumps(form_data))\n",
    "print(r.url)\n",
    "print('-'*70)\n",
    "print(r.text)"
   ]
  },
  {
   "cell_type": "code",
   "execution_count": 75,
   "metadata": {},
   "outputs": [
    {
     "name": "stdout",
     "output_type": "stream",
     "text": [
      "https://www.httpbin.org/post\n",
      "----------------------------------------------------------------------\n",
      "{\n",
      "  \"args\": {}, \n",
      "  \"data\": \"{\\\"gender\\\": \\\"M\\\", \\\"page\\\": \\\"1\\\"}\", \n",
      "  \"files\": {}, \n",
      "  \"form\": {}, \n",
      "  \"headers\": {\n",
      "    \"Accept\": \"*/*\", \n",
      "    \"Accept-Encoding\": \"gzip, deflate\", \n",
      "    \"Content-Length\": \"28\", \n",
      "    \"Content-Type\": \"application/json\", \n",
      "    \"Host\": \"www.httpbin.org\", \n",
      "    \"User-Agent\": \"python-requests/2.22.0\", \n",
      "    \"X-Amzn-Trace-Id\": \"Root=1-5ec13852-0e7c96bca3e5e3fc78e7d4a3\"\n",
      "  }, \n",
      "  \"json\": {\n",
      "    \"gender\": \"M\", \n",
      "    \"page\": \"1\"\n",
      "  }, \n",
      "  \"origin\": \"182.233.165.144\", \n",
      "  \"url\": \"https://www.httpbin.org/post\"\n",
      "}\n",
      "\n"
     ]
    }
   ],
   "source": [
    "# ch3_33.py\n",
    "import requests, json\n",
    "\n",
    "url = 'https://www.httpbin.org/post'\n",
    "form_data = {'gender':'M','page':'1'}\n",
    "r = requests.post(url, json=form_data)\n",
    "print(r.url)\n",
    "print('-'*70)\n",
    "print(r.text)"
   ]
  },
  {
   "cell_type": "code",
   "execution_count": 76,
   "metadata": {},
   "outputs": [
    {
     "name": "stdout",
     "output_type": "stream",
     "text": [
      "https://www.httpbin.org/post\n",
      "----------------------------------------------------------------------\n",
      "r.request.headers :\n",
      " {'User-Agent': 'Mozilla/5.0 (Windows NT 6.1; WOW64)            AppleWebKit/537.36 (KHTML, like Gecko) Chrome/45.0.2454.101            Safari/537.36', 'Accept-Encoding': 'gzip, deflate', 'Accept': '*/*', 'Connection': 'keep-alive', 'Content-Length': '28', 'Content-Type': 'application/json'}\n",
      "----------------------------------------------------------------------\n",
      "r.headers :\n",
      " {'Date': 'Sun, 17 May 2020 13:13:10 GMT', 'Content-Type': 'application/json', 'Content-Length': '633', 'Connection': 'keep-alive', 'Server': 'gunicorn/19.9.0', 'Access-Control-Allow-Origin': '*', 'Access-Control-Allow-Credentials': 'true'}\n"
     ]
    }
   ],
   "source": [
    "# ch3_34.py\n",
    "import requests, json\n",
    "\n",
    "headers = { 'User-Agent':'Mozilla/5.0 (Windows NT 6.1; WOW64)\\\n",
    "            AppleWebKit/537.36 (KHTML, like Gecko) Chrome/45.0.2454.101\\\n",
    "            Safari/537.36', }\n",
    "url = 'https://www.httpbin.org/post'\n",
    "form_data = {'gender':'M','page':'1'}\n",
    "r = requests.post(url, json=form_data, headers=headers)\n",
    "print(r.url)\n",
    "print('-'*70)\n",
    "print('r.request.headers :\\n', r.request.headers)\n",
    "print('-'*70)\n",
    "print('r.headers :\\n', r.headers)"
   ]
  },
  {
   "cell_type": "code",
   "execution_count": 77,
   "metadata": {},
   "outputs": [
    {
     "name": "stdout",
     "output_type": "stream",
     "text": [
      "200\n",
      "OK\n"
     ]
    }
   ],
   "source": [
    "# ch3_35.py\n",
    "import requests\n",
    "\n",
    "url = 'https://www.httpbin.org/get'\n",
    "r = requests.get(url)\n",
    "print(r.status_code)\n",
    "print(r.reason)"
   ]
  },
  {
   "cell_type": "code",
   "execution_count": 79,
   "metadata": {},
   "outputs": [
    {
     "name": "stdout",
     "output_type": "stream",
     "text": [
      "ISO-8859-1\n",
      "----------------------------------------------------------------------\n",
      "<html><head><meta http-equiv=\"Refresh\" content=\"0; url=do/\"></head></html>\n",
      "\n"
     ]
    }
   ],
   "source": [
    "# ch3_36.py\n",
    "import requests\n",
    "\n",
    "url = 'https://www.dinbendon.net/'\n",
    "r = requests.get(url)\n",
    "print(r.encoding)\n",
    "print('-'*70)\n",
    "print(r.text)"
   ]
  },
  {
   "cell_type": "code",
   "execution_count": 80,
   "metadata": {},
   "outputs": [
    {
     "name": "stdout",
     "output_type": "stream",
     "text": [
      "application/json\n",
      "----------------------------------------------------------------------\n",
      "{'Content-Length': '87', 'Content-Type': 'application/json', 'freeform': ''}\n"
     ]
    }
   ],
   "source": [
    "# ch3_37.py\n",
    "import requests\n",
    "\n",
    "url = 'https://www.httpbin.org/response-headers?freeform='\n",
    "r = requests.get(url)\n",
    "if r.status_code == 200:\n",
    "    print(r.headers.get('content-type'))\n",
    "    print('-'*70)\n",
    "    print(r.json())"
   ]
  },
  {
   "cell_type": "code",
   "execution_count": 81,
   "metadata": {},
   "outputs": [],
   "source": [
    "# ch3_38.py\n",
    "import requests\n",
    "\n",
    "url = 'https://www.httpbin.org/image/jpeg'\n",
    "r = requests.get(url)\n",
    "img = r.content\n",
    "\n",
    "fn = 'out3_38.jpg'\n",
    "with open(fn, 'wb') as fout:\n",
    "    fout.write(img)"
   ]
  },
  {
   "cell_type": "code",
   "execution_count": 82,
   "metadata": {},
   "outputs": [
    {
     "name": "stdout",
     "output_type": "stream",
     "text": [
      "{\n",
      "  \"cookies\": {\n",
      "    \"key1\": \"value1\"\n",
      "  }\n",
      "}\n",
      "\n"
     ]
    }
   ],
   "source": [
    "# ch3_39.py\n",
    "import requests\n",
    "\n",
    "url = 'http://httpbin.org/cookies'\n",
    "cookies = dict(key1='value1')\n",
    "r = requests.get(url, cookies=cookies)\n",
    "print(r.text)"
   ]
  },
  {
   "cell_type": "code",
   "execution_count": 93,
   "metadata": {},
   "outputs": [
    {
     "ename": "ProxyError",
     "evalue": "HTTPSConnectionPool(host='docs.python.org', port=443): Max retries exceeded with url: / (Caused by ProxyError('Cannot connect to proxy.', NewConnectionError('<urllib3.connection.VerifiedHTTPSConnection object at 0x016F8330>: Failed to establish a new connection: [WinError 10060] 連線嘗試失敗，因為連線對象有一段時間並未正確回應，或是連線建立失敗，因為連線的主機無法回應。')))",
     "output_type": "error",
     "traceback": [
      "\u001b[1;31m---------------------------------------------------------------------------\u001b[0m",
      "\u001b[1;31mTimeoutError\u001b[0m                              Traceback (most recent call last)",
      "\u001b[1;32mC:\\ProgramData\\Anaconda3\\lib\\site-packages\\urllib3\\connection.py\u001b[0m in \u001b[0;36m_new_conn\u001b[1;34m(self)\u001b[0m\n\u001b[0;32m    158\u001b[0m             conn = connection.create_connection(\n\u001b[1;32m--> 159\u001b[1;33m                 (self._dns_host, self.port), self.timeout, **extra_kw)\n\u001b[0m\u001b[0;32m    160\u001b[0m \u001b[1;33m\u001b[0m\u001b[0m\n",
      "\u001b[1;32mC:\\ProgramData\\Anaconda3\\lib\\site-packages\\urllib3\\util\\connection.py\u001b[0m in \u001b[0;36mcreate_connection\u001b[1;34m(address, timeout, source_address, socket_options)\u001b[0m\n\u001b[0;32m     79\u001b[0m     \u001b[1;32mif\u001b[0m \u001b[0merr\u001b[0m \u001b[1;32mis\u001b[0m \u001b[1;32mnot\u001b[0m \u001b[1;32mNone\u001b[0m\u001b[1;33m:\u001b[0m\u001b[1;33m\u001b[0m\u001b[1;33m\u001b[0m\u001b[0m\n\u001b[1;32m---> 80\u001b[1;33m         \u001b[1;32mraise\u001b[0m \u001b[0merr\u001b[0m\u001b[1;33m\u001b[0m\u001b[1;33m\u001b[0m\u001b[0m\n\u001b[0m\u001b[0;32m     81\u001b[0m \u001b[1;33m\u001b[0m\u001b[0m\n",
      "\u001b[1;32mC:\\ProgramData\\Anaconda3\\lib\\site-packages\\urllib3\\util\\connection.py\u001b[0m in \u001b[0;36mcreate_connection\u001b[1;34m(address, timeout, source_address, socket_options)\u001b[0m\n\u001b[0;32m     69\u001b[0m                 \u001b[0msock\u001b[0m\u001b[1;33m.\u001b[0m\u001b[0mbind\u001b[0m\u001b[1;33m(\u001b[0m\u001b[0msource_address\u001b[0m\u001b[1;33m)\u001b[0m\u001b[1;33m\u001b[0m\u001b[1;33m\u001b[0m\u001b[0m\n\u001b[1;32m---> 70\u001b[1;33m             \u001b[0msock\u001b[0m\u001b[1;33m.\u001b[0m\u001b[0mconnect\u001b[0m\u001b[1;33m(\u001b[0m\u001b[0msa\u001b[0m\u001b[1;33m)\u001b[0m\u001b[1;33m\u001b[0m\u001b[1;33m\u001b[0m\u001b[0m\n\u001b[0m\u001b[0;32m     71\u001b[0m             \u001b[1;32mreturn\u001b[0m \u001b[0msock\u001b[0m\u001b[1;33m\u001b[0m\u001b[1;33m\u001b[0m\u001b[0m\n",
      "\u001b[1;31mTimeoutError\u001b[0m: [WinError 10060] 連線嘗試失敗，因為連線對象有一段時間並未正確回應，或是連線建立失敗，因為連線的主機無法回應。",
      "\nDuring handling of the above exception, another exception occurred:\n",
      "\u001b[1;31mNewConnectionError\u001b[0m                        Traceback (most recent call last)",
      "\u001b[1;32mC:\\ProgramData\\Anaconda3\\lib\\site-packages\\urllib3\\connectionpool.py\u001b[0m in \u001b[0;36murlopen\u001b[1;34m(self, method, url, body, headers, retries, redirect, assert_same_host, timeout, pool_timeout, release_conn, chunked, body_pos, **response_kw)\u001b[0m\n\u001b[0;32m    593\u001b[0m             \u001b[1;32mif\u001b[0m \u001b[0mis_new_proxy_conn\u001b[0m\u001b[1;33m:\u001b[0m\u001b[1;33m\u001b[0m\u001b[1;33m\u001b[0m\u001b[0m\n\u001b[1;32m--> 594\u001b[1;33m                 \u001b[0mself\u001b[0m\u001b[1;33m.\u001b[0m\u001b[0m_prepare_proxy\u001b[0m\u001b[1;33m(\u001b[0m\u001b[0mconn\u001b[0m\u001b[1;33m)\u001b[0m\u001b[1;33m\u001b[0m\u001b[1;33m\u001b[0m\u001b[0m\n\u001b[0m\u001b[0;32m    595\u001b[0m \u001b[1;33m\u001b[0m\u001b[0m\n",
      "\u001b[1;32mC:\\ProgramData\\Anaconda3\\lib\\site-packages\\urllib3\\connectionpool.py\u001b[0m in \u001b[0;36m_prepare_proxy\u001b[1;34m(self, conn)\u001b[0m\n\u001b[0;32m    804\u001b[0m         \u001b[0mconn\u001b[0m\u001b[1;33m.\u001b[0m\u001b[0mset_tunnel\u001b[0m\u001b[1;33m(\u001b[0m\u001b[0mself\u001b[0m\u001b[1;33m.\u001b[0m\u001b[0m_proxy_host\u001b[0m\u001b[1;33m,\u001b[0m \u001b[0mself\u001b[0m\u001b[1;33m.\u001b[0m\u001b[0mport\u001b[0m\u001b[1;33m,\u001b[0m \u001b[0mself\u001b[0m\u001b[1;33m.\u001b[0m\u001b[0mproxy_headers\u001b[0m\u001b[1;33m)\u001b[0m\u001b[1;33m\u001b[0m\u001b[1;33m\u001b[0m\u001b[0m\n\u001b[1;32m--> 805\u001b[1;33m         \u001b[0mconn\u001b[0m\u001b[1;33m.\u001b[0m\u001b[0mconnect\u001b[0m\u001b[1;33m(\u001b[0m\u001b[1;33m)\u001b[0m\u001b[1;33m\u001b[0m\u001b[1;33m\u001b[0m\u001b[0m\n\u001b[0m\u001b[0;32m    806\u001b[0m \u001b[1;33m\u001b[0m\u001b[0m\n",
      "\u001b[1;32mC:\\ProgramData\\Anaconda3\\lib\\site-packages\\urllib3\\connection.py\u001b[0m in \u001b[0;36mconnect\u001b[1;34m(self)\u001b[0m\n\u001b[0;32m    300\u001b[0m         \u001b[1;31m# Add certificate verification\u001b[0m\u001b[1;33m\u001b[0m\u001b[1;33m\u001b[0m\u001b[1;33m\u001b[0m\u001b[0m\n\u001b[1;32m--> 301\u001b[1;33m         \u001b[0mconn\u001b[0m \u001b[1;33m=\u001b[0m \u001b[0mself\u001b[0m\u001b[1;33m.\u001b[0m\u001b[0m_new_conn\u001b[0m\u001b[1;33m(\u001b[0m\u001b[1;33m)\u001b[0m\u001b[1;33m\u001b[0m\u001b[1;33m\u001b[0m\u001b[0m\n\u001b[0m\u001b[0;32m    302\u001b[0m         \u001b[0mhostname\u001b[0m \u001b[1;33m=\u001b[0m \u001b[0mself\u001b[0m\u001b[1;33m.\u001b[0m\u001b[0mhost\u001b[0m\u001b[1;33m\u001b[0m\u001b[1;33m\u001b[0m\u001b[0m\n",
      "\u001b[1;32mC:\\ProgramData\\Anaconda3\\lib\\site-packages\\urllib3\\connection.py\u001b[0m in \u001b[0;36m_new_conn\u001b[1;34m(self)\u001b[0m\n\u001b[0;32m    167\u001b[0m             raise NewConnectionError(\n\u001b[1;32m--> 168\u001b[1;33m                 self, \"Failed to establish a new connection: %s\" % e)\n\u001b[0m\u001b[0;32m    169\u001b[0m \u001b[1;33m\u001b[0m\u001b[0m\n",
      "\u001b[1;31mNewConnectionError\u001b[0m: <urllib3.connection.VerifiedHTTPSConnection object at 0x016F8330>: Failed to establish a new connection: [WinError 10060] 連線嘗試失敗，因為連線對象有一段時間並未正確回應，或是連線建立失敗，因為連線的主機無法回應。",
      "\nDuring handling of the above exception, another exception occurred:\n",
      "\u001b[1;31mMaxRetryError\u001b[0m                             Traceback (most recent call last)",
      "\u001b[1;32mC:\\ProgramData\\Anaconda3\\lib\\site-packages\\requests\\adapters.py\u001b[0m in \u001b[0;36msend\u001b[1;34m(self, request, stream, timeout, verify, cert, proxies)\u001b[0m\n\u001b[0;32m    448\u001b[0m                     \u001b[0mretries\u001b[0m\u001b[1;33m=\u001b[0m\u001b[0mself\u001b[0m\u001b[1;33m.\u001b[0m\u001b[0mmax_retries\u001b[0m\u001b[1;33m,\u001b[0m\u001b[1;33m\u001b[0m\u001b[1;33m\u001b[0m\u001b[0m\n\u001b[1;32m--> 449\u001b[1;33m                     \u001b[0mtimeout\u001b[0m\u001b[1;33m=\u001b[0m\u001b[0mtimeout\u001b[0m\u001b[1;33m\u001b[0m\u001b[1;33m\u001b[0m\u001b[0m\n\u001b[0m\u001b[0;32m    450\u001b[0m                 )\n",
      "\u001b[1;32mC:\\ProgramData\\Anaconda3\\lib\\site-packages\\urllib3\\connectionpool.py\u001b[0m in \u001b[0;36murlopen\u001b[1;34m(self, method, url, body, headers, retries, redirect, assert_same_host, timeout, pool_timeout, release_conn, chunked, body_pos, **response_kw)\u001b[0m\n\u001b[0;32m    637\u001b[0m             retries = retries.increment(method, url, error=e, _pool=self,\n\u001b[1;32m--> 638\u001b[1;33m                                         _stacktrace=sys.exc_info()[2])\n\u001b[0m\u001b[0;32m    639\u001b[0m             \u001b[0mretries\u001b[0m\u001b[1;33m.\u001b[0m\u001b[0msleep\u001b[0m\u001b[1;33m(\u001b[0m\u001b[1;33m)\u001b[0m\u001b[1;33m\u001b[0m\u001b[1;33m\u001b[0m\u001b[0m\n",
      "\u001b[1;32mC:\\ProgramData\\Anaconda3\\lib\\site-packages\\urllib3\\util\\retry.py\u001b[0m in \u001b[0;36mincrement\u001b[1;34m(self, method, url, response, error, _pool, _stacktrace)\u001b[0m\n\u001b[0;32m    398\u001b[0m         \u001b[1;32mif\u001b[0m \u001b[0mnew_retry\u001b[0m\u001b[1;33m.\u001b[0m\u001b[0mis_exhausted\u001b[0m\u001b[1;33m(\u001b[0m\u001b[1;33m)\u001b[0m\u001b[1;33m:\u001b[0m\u001b[1;33m\u001b[0m\u001b[1;33m\u001b[0m\u001b[0m\n\u001b[1;32m--> 399\u001b[1;33m             \u001b[1;32mraise\u001b[0m \u001b[0mMaxRetryError\u001b[0m\u001b[1;33m(\u001b[0m\u001b[0m_pool\u001b[0m\u001b[1;33m,\u001b[0m \u001b[0murl\u001b[0m\u001b[1;33m,\u001b[0m \u001b[0merror\u001b[0m \u001b[1;32mor\u001b[0m \u001b[0mResponseError\u001b[0m\u001b[1;33m(\u001b[0m\u001b[0mcause\u001b[0m\u001b[1;33m)\u001b[0m\u001b[1;33m)\u001b[0m\u001b[1;33m\u001b[0m\u001b[1;33m\u001b[0m\u001b[0m\n\u001b[0m\u001b[0;32m    400\u001b[0m \u001b[1;33m\u001b[0m\u001b[0m\n",
      "\u001b[1;31mMaxRetryError\u001b[0m: HTTPSConnectionPool(host='docs.python.org', port=443): Max retries exceeded with url: / (Caused by ProxyError('Cannot connect to proxy.', NewConnectionError('<urllib3.connection.VerifiedHTTPSConnection object at 0x016F8330>: Failed to establish a new connection: [WinError 10060] 連線嘗試失敗，因為連線對象有一段時間並未正確回應，或是連線建立失敗，因為連線的主機無法回應。')))",
      "\nDuring handling of the above exception, another exception occurred:\n",
      "\u001b[1;31mProxyError\u001b[0m                                Traceback (most recent call last)",
      "\u001b[1;32m<ipython-input-93-e74fb2539767>\u001b[0m in \u001b[0;36m<module>\u001b[1;34m\u001b[0m\n\u001b[0;32m      7\u001b[0m }\n\u001b[0;32m      8\u001b[0m \u001b[1;33m\u001b[0m\u001b[0m\n\u001b[1;32m----> 9\u001b[1;33m \u001b[0mr\u001b[0m \u001b[1;33m=\u001b[0m \u001b[0mrequests\u001b[0m\u001b[1;33m.\u001b[0m\u001b[0mget\u001b[0m\u001b[1;33m(\u001b[0m\u001b[1;34m\"https://docs.python.org\"\u001b[0m\u001b[1;33m,\u001b[0m \u001b[0mproxies\u001b[0m\u001b[1;33m=\u001b[0m\u001b[0mproxies\u001b[0m\u001b[1;33m)\u001b[0m\u001b[1;33m\u001b[0m\u001b[1;33m\u001b[0m\u001b[0m\n\u001b[0m",
      "\u001b[1;32mC:\\ProgramData\\Anaconda3\\lib\\site-packages\\requests\\api.py\u001b[0m in \u001b[0;36mget\u001b[1;34m(url, params, **kwargs)\u001b[0m\n\u001b[0;32m     73\u001b[0m \u001b[1;33m\u001b[0m\u001b[0m\n\u001b[0;32m     74\u001b[0m     \u001b[0mkwargs\u001b[0m\u001b[1;33m.\u001b[0m\u001b[0msetdefault\u001b[0m\u001b[1;33m(\u001b[0m\u001b[1;34m'allow_redirects'\u001b[0m\u001b[1;33m,\u001b[0m \u001b[1;32mTrue\u001b[0m\u001b[1;33m)\u001b[0m\u001b[1;33m\u001b[0m\u001b[1;33m\u001b[0m\u001b[0m\n\u001b[1;32m---> 75\u001b[1;33m     \u001b[1;32mreturn\u001b[0m \u001b[0mrequest\u001b[0m\u001b[1;33m(\u001b[0m\u001b[1;34m'get'\u001b[0m\u001b[1;33m,\u001b[0m \u001b[0murl\u001b[0m\u001b[1;33m,\u001b[0m \u001b[0mparams\u001b[0m\u001b[1;33m=\u001b[0m\u001b[0mparams\u001b[0m\u001b[1;33m,\u001b[0m \u001b[1;33m**\u001b[0m\u001b[0mkwargs\u001b[0m\u001b[1;33m)\u001b[0m\u001b[1;33m\u001b[0m\u001b[1;33m\u001b[0m\u001b[0m\n\u001b[0m\u001b[0;32m     76\u001b[0m \u001b[1;33m\u001b[0m\u001b[0m\n\u001b[0;32m     77\u001b[0m \u001b[1;33m\u001b[0m\u001b[0m\n",
      "\u001b[1;32mC:\\ProgramData\\Anaconda3\\lib\\site-packages\\requests\\api.py\u001b[0m in \u001b[0;36mrequest\u001b[1;34m(method, url, **kwargs)\u001b[0m\n\u001b[0;32m     58\u001b[0m     \u001b[1;31m# cases, and look like a memory leak in others.\u001b[0m\u001b[1;33m\u001b[0m\u001b[1;33m\u001b[0m\u001b[1;33m\u001b[0m\u001b[0m\n\u001b[0;32m     59\u001b[0m     \u001b[1;32mwith\u001b[0m \u001b[0msessions\u001b[0m\u001b[1;33m.\u001b[0m\u001b[0mSession\u001b[0m\u001b[1;33m(\u001b[0m\u001b[1;33m)\u001b[0m \u001b[1;32mas\u001b[0m \u001b[0msession\u001b[0m\u001b[1;33m:\u001b[0m\u001b[1;33m\u001b[0m\u001b[1;33m\u001b[0m\u001b[0m\n\u001b[1;32m---> 60\u001b[1;33m         \u001b[1;32mreturn\u001b[0m \u001b[0msession\u001b[0m\u001b[1;33m.\u001b[0m\u001b[0mrequest\u001b[0m\u001b[1;33m(\u001b[0m\u001b[0mmethod\u001b[0m\u001b[1;33m=\u001b[0m\u001b[0mmethod\u001b[0m\u001b[1;33m,\u001b[0m \u001b[0murl\u001b[0m\u001b[1;33m=\u001b[0m\u001b[0murl\u001b[0m\u001b[1;33m,\u001b[0m \u001b[1;33m**\u001b[0m\u001b[0mkwargs\u001b[0m\u001b[1;33m)\u001b[0m\u001b[1;33m\u001b[0m\u001b[1;33m\u001b[0m\u001b[0m\n\u001b[0m\u001b[0;32m     61\u001b[0m \u001b[1;33m\u001b[0m\u001b[0m\n\u001b[0;32m     62\u001b[0m \u001b[1;33m\u001b[0m\u001b[0m\n",
      "\u001b[1;32mC:\\ProgramData\\Anaconda3\\lib\\site-packages\\requests\\sessions.py\u001b[0m in \u001b[0;36mrequest\u001b[1;34m(self, method, url, params, data, headers, cookies, files, auth, timeout, allow_redirects, proxies, hooks, stream, verify, cert, json)\u001b[0m\n\u001b[0;32m    531\u001b[0m         }\n\u001b[0;32m    532\u001b[0m         \u001b[0msend_kwargs\u001b[0m\u001b[1;33m.\u001b[0m\u001b[0mupdate\u001b[0m\u001b[1;33m(\u001b[0m\u001b[0msettings\u001b[0m\u001b[1;33m)\u001b[0m\u001b[1;33m\u001b[0m\u001b[1;33m\u001b[0m\u001b[0m\n\u001b[1;32m--> 533\u001b[1;33m         \u001b[0mresp\u001b[0m \u001b[1;33m=\u001b[0m \u001b[0mself\u001b[0m\u001b[1;33m.\u001b[0m\u001b[0msend\u001b[0m\u001b[1;33m(\u001b[0m\u001b[0mprep\u001b[0m\u001b[1;33m,\u001b[0m \u001b[1;33m**\u001b[0m\u001b[0msend_kwargs\u001b[0m\u001b[1;33m)\u001b[0m\u001b[1;33m\u001b[0m\u001b[1;33m\u001b[0m\u001b[0m\n\u001b[0m\u001b[0;32m    534\u001b[0m \u001b[1;33m\u001b[0m\u001b[0m\n\u001b[0;32m    535\u001b[0m         \u001b[1;32mreturn\u001b[0m \u001b[0mresp\u001b[0m\u001b[1;33m\u001b[0m\u001b[1;33m\u001b[0m\u001b[0m\n",
      "\u001b[1;32mC:\\ProgramData\\Anaconda3\\lib\\site-packages\\requests\\sessions.py\u001b[0m in \u001b[0;36msend\u001b[1;34m(self, request, **kwargs)\u001b[0m\n\u001b[0;32m    644\u001b[0m \u001b[1;33m\u001b[0m\u001b[0m\n\u001b[0;32m    645\u001b[0m         \u001b[1;31m# Send the request\u001b[0m\u001b[1;33m\u001b[0m\u001b[1;33m\u001b[0m\u001b[1;33m\u001b[0m\u001b[0m\n\u001b[1;32m--> 646\u001b[1;33m         \u001b[0mr\u001b[0m \u001b[1;33m=\u001b[0m \u001b[0madapter\u001b[0m\u001b[1;33m.\u001b[0m\u001b[0msend\u001b[0m\u001b[1;33m(\u001b[0m\u001b[0mrequest\u001b[0m\u001b[1;33m,\u001b[0m \u001b[1;33m**\u001b[0m\u001b[0mkwargs\u001b[0m\u001b[1;33m)\u001b[0m\u001b[1;33m\u001b[0m\u001b[1;33m\u001b[0m\u001b[0m\n\u001b[0m\u001b[0;32m    647\u001b[0m \u001b[1;33m\u001b[0m\u001b[0m\n\u001b[0;32m    648\u001b[0m         \u001b[1;31m# Total elapsed time of the request (approximately)\u001b[0m\u001b[1;33m\u001b[0m\u001b[1;33m\u001b[0m\u001b[1;33m\u001b[0m\u001b[0m\n",
      "\u001b[1;32mC:\\ProgramData\\Anaconda3\\lib\\site-packages\\requests\\adapters.py\u001b[0m in \u001b[0;36msend\u001b[1;34m(self, request, stream, timeout, verify, cert, proxies)\u001b[0m\n\u001b[0;32m    508\u001b[0m \u001b[1;33m\u001b[0m\u001b[0m\n\u001b[0;32m    509\u001b[0m             \u001b[1;32mif\u001b[0m \u001b[0misinstance\u001b[0m\u001b[1;33m(\u001b[0m\u001b[0me\u001b[0m\u001b[1;33m.\u001b[0m\u001b[0mreason\u001b[0m\u001b[1;33m,\u001b[0m \u001b[0m_ProxyError\u001b[0m\u001b[1;33m)\u001b[0m\u001b[1;33m:\u001b[0m\u001b[1;33m\u001b[0m\u001b[1;33m\u001b[0m\u001b[0m\n\u001b[1;32m--> 510\u001b[1;33m                 \u001b[1;32mraise\u001b[0m \u001b[0mProxyError\u001b[0m\u001b[1;33m(\u001b[0m\u001b[0me\u001b[0m\u001b[1;33m,\u001b[0m \u001b[0mrequest\u001b[0m\u001b[1;33m=\u001b[0m\u001b[0mrequest\u001b[0m\u001b[1;33m)\u001b[0m\u001b[1;33m\u001b[0m\u001b[1;33m\u001b[0m\u001b[0m\n\u001b[0m\u001b[0;32m    511\u001b[0m \u001b[1;33m\u001b[0m\u001b[0m\n\u001b[0;32m    512\u001b[0m             \u001b[1;32mif\u001b[0m \u001b[0misinstance\u001b[0m\u001b[1;33m(\u001b[0m\u001b[0me\u001b[0m\u001b[1;33m.\u001b[0m\u001b[0mreason\u001b[0m\u001b[1;33m,\u001b[0m \u001b[0m_SSLError\u001b[0m\u001b[1;33m)\u001b[0m\u001b[1;33m:\u001b[0m\u001b[1;33m\u001b[0m\u001b[1;33m\u001b[0m\u001b[0m\n",
      "\u001b[1;31mProxyError\u001b[0m: HTTPSConnectionPool(host='docs.python.org', port=443): Max retries exceeded with url: / (Caused by ProxyError('Cannot connect to proxy.', NewConnectionError('<urllib3.connection.VerifiedHTTPSConnection object at 0x016F8330>: Failed to establish a new connection: [WinError 10060] 連線嘗試失敗，因為連線對象有一段時間並未正確回應，或是連線建立失敗，因為連線的主機無法回應。')))"
     ]
    }
   ],
   "source": [
    "# ch3_40.py\n",
    "import requests\n",
    "\n",
    "proxies = {\n",
    "  \"http\": \"http://111.231.81.109:3128\",         # ip:port\n",
    "  \"https\": \"https://111.231.81.109:1080\",       # ip:port\n",
    "}\n",
    "\n",
    "r = requests.get(\"https://docs.python.org\", proxies=proxies)"
   ]
  },
  {
   "cell_type": "code",
   "execution_count": 92,
   "metadata": {},
   "outputs": [
    {
     "name": "stdout",
     "output_type": "stream",
     "text": [
      "代理IP使用成功\n"
     ]
    }
   ],
   "source": [
    "# ch3_41.py\n",
    "import requests\n",
    "\n",
    "proxies = {\n",
    "  \"http\": \"http://203.83.182.86:8080\",         # ip:port\n",
    "}\n",
    "\n",
    "r = requests.get(\"https://docs.python.org\", proxies=proxies)\n",
    "if r.status_code == 200:\n",
    "    print('代理IP使用成功')"
   ]
  },
  {
   "cell_type": "code",
   "execution_count": null,
   "metadata": {},
   "outputs": [],
   "source": []
  }
 ],
 "metadata": {
  "kernelspec": {
   "display_name": "Python 3",
   "language": "python",
   "name": "python3"
  },
  "language_info": {
   "codemirror_mode": {
    "name": "ipython",
    "version": 3
   },
   "file_extension": ".py",
   "mimetype": "text/x-python",
   "name": "python",
   "nbconvert_exporter": "python",
   "pygments_lexer": "ipython3",
   "version": "3.7.3"
  }
 },
 "nbformat": 4,
 "nbformat_minor": 2
}
