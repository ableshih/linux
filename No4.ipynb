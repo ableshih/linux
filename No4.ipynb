{
 "cells": [
  {
   "cell_type": "code",
   "execution_count": 1,
   "metadata": {},
   "outputs": [
    {
     "name": "stdout",
     "output_type": "stream",
     "text": [
      "<class 'pandas.core.series.Series'>\n",
      "2020    20\n",
      "2021    21\n",
      "2022    19\n",
      "2020    25\n",
      "2021    26\n",
      "2022    27\n",
      "2020    30\n",
      "2021    29\n",
      "2022    31\n",
      "dtype: int64\n"
     ]
    }
   ],
   "source": [
    "# ch4_1.py\n",
    "import pandas as pd\n",
    "years = range(2020, 2023)\n",
    "beijing = pd.Series([20, 21, 19], index = years)\n",
    "hongkong = pd.Series([25, 26, 27], index = years)\n",
    "singapore = pd.Series([30, 29, 31], index = years)\n",
    "citydf = pd.concat([beijing, hongkong, singapore])  # 預設axis=0\n",
    "print(type(citydf))\n",
    "print(citydf)"
   ]
  },
  {
   "cell_type": "code",
   "execution_count": 2,
   "metadata": {},
   "outputs": [
    {
     "name": "stdout",
     "output_type": "stream",
     "text": [
      "<class 'pandas.core.frame.DataFrame'>\n",
      "       0   1   2\n",
      "2020  20  25  30\n",
      "2021  21  26  29\n",
      "2022  19  27  31\n"
     ]
    }
   ],
   "source": [
    "# ch4_2.py\n",
    "import pandas as pd\n",
    "years = range(2020, 2023)\n",
    "beijing = pd.Series([20, 21, 19], index = years)\n",
    "hongkong = pd.Series([25, 26, 27], index = years)\n",
    "singapore = pd.Series([30, 29, 31], index = years)\n",
    "citydf = pd.concat([beijing, hongkong, singapore],axis=1)  # axis=1\n",
    "print(type(citydf))\n",
    "print(citydf)"
   ]
  },
  {
   "cell_type": "code",
   "execution_count": 3,
   "metadata": {},
   "outputs": [
    {
     "name": "stdout",
     "output_type": "stream",
     "text": [
      "      Beijing  HongKong  Singapore\n",
      "2020       20        25         30\n",
      "2021       21        26         29\n",
      "2022       19        27         31\n"
     ]
    }
   ],
   "source": [
    "# ch4_3.py\n",
    "import pandas as pd\n",
    "years = range(2020, 2023)\n",
    "beijing = pd.Series([20, 21, 19], index = years)\n",
    "hongkong = pd.Series([25, 26, 27], index = years)\n",
    "singapore = pd.Series([30, 29, 31], index = years)\n",
    "citydf = pd.concat([beijing, hongkong, singapore],axis=1)  # axis=1\n",
    "cities = [\"Beijing\", \"HongKong\", \"Singapore\"]\n",
    "citydf.columns = cities\n",
    "print(citydf)"
   ]
  },
  {
   "cell_type": "code",
   "execution_count": 4,
   "metadata": {},
   "outputs": [
    {
     "name": "stdout",
     "output_type": "stream",
     "text": [
      "      Beijing  HongKong  Singapore\n",
      "2020       20        25         30\n",
      "2021       21        26         29\n",
      "2022       19        27         31\n"
     ]
    }
   ],
   "source": [
    "# ch4_4.py\n",
    "import pandas as pd\n",
    "years = range(2020, 2023)\n",
    "beijing = pd.Series([20, 21, 19], index = years)\n",
    "hongkong = pd.Series([25, 26, 27], index = years)\n",
    "singapore = pd.Series([30, 29, 31], index = years)\n",
    "beijing.name = \"Beijing\"\n",
    "hongkong.name = \"HongKong\"\n",
    "singapore.name = \"Singapore\"\n",
    "citydf = pd.concat([beijing, hongkong, singapore],axis=1)  \n",
    "print(citydf)"
   ]
  },
  {
   "cell_type": "code",
   "execution_count": 5,
   "metadata": {},
   "outputs": [
    {
     "name": "stdout",
     "output_type": "stream",
     "text": [
      "   Grape  Orange  apple\n",
      "0     80    30.0     50\n",
      "1     80     NaN     50\n"
     ]
    }
   ],
   "source": [
    "# ch4_5.py\n",
    "import pandas as pd\n",
    "data = [{'apple':50,'Orange':30,'Grape':80},{'apple':50,'Grape':80}]\n",
    "fruits = pd.DataFrame(data)\n",
    "print(fruits)"
   ]
  },
  {
   "cell_type": "code",
   "execution_count": 6,
   "metadata": {},
   "outputs": [
    {
     "name": "stdout",
     "output_type": "stream",
     "text": [
      "     country       town  population\n",
      "0      China    Beijing        2000\n",
      "1      Japan      Tokyo        1600\n",
      "2  Singapore  Singapore         600\n"
     ]
    }
   ],
   "source": [
    "# ch4_6.py\n",
    "import pandas as pd\n",
    "cities = {'country':['China', 'Japan', 'Singapore'],\n",
    "          'town':['Beijing','Tokyo','Singapore'],\n",
    "          'population':[2000, 1600, 600]}\n",
    "citydf = pd.DataFrame(cities)\n",
    "print(citydf)"
   ]
  },
  {
   "cell_type": "code",
   "execution_count": 7,
   "metadata": {},
   "outputs": [
    {
     "name": "stdout",
     "output_type": "stream",
     "text": [
      "          country       town  population\n",
      "first       China    Beijing        2000\n",
      "second      Japan      Tokyo        1600\n",
      "third   Singapore  Singapore         600\n"
     ]
    }
   ],
   "source": [
    "# ch4_7.py\n",
    "import pandas as pd\n",
    "cities = {'country':['China', 'Japan', 'Singapore'],\n",
    "          'town':['Beijing','Tokyo','Singapore'],\n",
    "          'population':[2000, 1600, 600]}\n",
    "rowindex = ['first', 'second', 'third']\n",
    "citydf = pd.DataFrame(cities, index=rowindex)\n",
    "print(citydf)"
   ]
  },
  {
   "cell_type": "code",
   "execution_count": 8,
   "metadata": {},
   "outputs": [
    {
     "name": "stdout",
     "output_type": "stream",
     "text": [
      "                town  population\n",
      "China        Beijing        2000\n",
      "Japan          Tokyo        1600\n",
      "Singapore  Singapore         600\n"
     ]
    }
   ],
   "source": [
    "# ch4_8.py\n",
    "import pandas as pd\n",
    "cities = {'country':['China', 'Japan', 'Singapore'],\n",
    "          'town':['Beijing','Tokyo','Singapore'],\n",
    "          'population':[2000, 1600, 600]}\n",
    "citydf = pd.DataFrame(cities, columns=[\"town\",\"population\"],\n",
    "                      index=cities[\"country\"])\n",
    "print(citydf)"
   ]
  },
  {
   "cell_type": "code",
   "execution_count": 9,
   "metadata": {},
   "outputs": [
    {
     "name": "stdout",
     "output_type": "stream",
     "text": [
      "                Town  Population\n",
      "China        Beijing        2000\n",
      "China       Shanghai        2300\n",
      "Thailand     Bangkok         900\n",
      "Japan          Tokyo        1600\n",
      "Singapore  Singapore         600\n"
     ]
    }
   ],
   "source": [
    "# ch4_9.py\n",
    "import pandas as pd\n",
    "cities = {'Country':['China','China','Thailand','Japan','Singapore'],\n",
    "          'Town':['Beijing','Shanghai','Bangkok', 'Tokyo','Singapore'],\n",
    "          'Population':[2000, 2300, 900, 1600, 600]}\n",
    "df = pd.DataFrame(cities, columns=[\"Town\",\"Population\"],\n",
    "                  index=cities[\"Country\"])\n",
    "print(df)"
   ]
  },
  {
   "cell_type": "code",
   "execution_count": 10,
   "metadata": {},
   "outputs": [
    {
     "name": "stdout",
     "output_type": "stream",
     "text": [
      "        Frank  Peter  John\n",
      "first      90     87    88\n",
      "second     88     76    82\n",
      "final      99     97    91\n"
     ]
    }
   ],
   "source": [
    "# ch4_10.py\n",
    "import pandas as pd\n",
    "import numpy as np\n",
    "name = ['Frank', 'Peter', 'John']\n",
    "score = ['first', 'second', 'final']\n",
    "df = pd.DataFrame(np.random.randint(60,100,size=(3,3)),\n",
    "                  columns=name,\n",
    "                  index=score)\n",
    "print(df)"
   ]
  },
  {
   "cell_type": "code",
   "execution_count": 11,
   "metadata": {},
   "outputs": [
    {
     "name": "stdout",
     "output_type": "stream",
     "text": [
      "   Chinese  English  Math  Natural  Society\n",
      "1       14       12    13       10       13\n",
      "2       13       14    11       10       15\n",
      "3       15        9    12        8       15\n",
      "4       15       10    13       10       15\n",
      "5       12       11    14        9       14\n"
     ]
    }
   ],
   "source": [
    "# ch4_11.py\n",
    "import pandas as pd\n",
    "\n",
    "course = ['Chinese', 'English', 'Math', 'Natural', 'Society']\n",
    "chinese = [14, 12, 13, 10, 13]\n",
    "eng = [13, 14, 11, 10, 15]\n",
    "math = [15, 9, 12, 8, 15]\n",
    "nature = [15, 10, 13, 10, 15]\n",
    "social = [12, 11, 14, 9, 14]\n",
    "\n",
    "df = pd.DataFrame([chinese, eng, math, nature, social],\n",
    "                  columns = course,\n",
    "                  index = range(1,6))\n",
    "print(df)"
   ]
  },
  {
   "cell_type": "code",
   "execution_count": 12,
   "metadata": {},
   "outputs": [],
   "source": [
    "# ch4_12.py\n",
    "import pandas as pd\n",
    "\n",
    "course = ['Chinese', 'English', 'Math', 'Natural', 'Society']\n",
    "chinese = [14, 12, 13, 10, 13]\n",
    "eng = [13, 14, 11, 10, 15]\n",
    "math = [15, 9, 12, 8, 15]\n",
    "nature = [15, 10, 13, 10, 15]\n",
    "social = [12, 11, 14, 9, 14]\n",
    "\n",
    "df = pd.DataFrame([chinese, eng, math, nature, social],\n",
    "                  columns = course,\n",
    "                  index = range(1,6))\n",
    "df.to_csv(\"out4_12a.csv\")\n",
    "df.to_csv(\"out4_12b.csv\", header=False, index=False)"
   ]
  },
  {
   "cell_type": "code",
   "execution_count": 13,
   "metadata": {},
   "outputs": [
    {
     "name": "stdout",
     "output_type": "stream",
     "text": [
      "   Chinese  English  Math  Natural  Society\n",
      "1       14       12    13       10       13\n",
      "2       13       14    11       10       15\n",
      "3       15        9    12        8       15\n",
      "4       15       10    13       10       15\n",
      "5       12       11    14        9       14\n",
      "   Chinese  English  Math  Natural  Society\n",
      "0       14       12    13       10       13\n",
      "1       13       14    11       10       15\n",
      "2       15        9    12        8       15\n",
      "3       15       10    13       10       15\n",
      "4       12       11    14        9       14\n"
     ]
    }
   ],
   "source": [
    "# ch4_13.py\n",
    "import pandas as pd\n",
    "\n",
    "course = ['Chinese', 'English', 'Math', 'Natural', 'Society']\n",
    "x = pd.read_csv(\"out4_12a.csv\",index_col=0)\n",
    "y = pd.read_csv(\"out4_12b.csv\",names=course)\n",
    "print(x)\n",
    "print(y)"
   ]
  },
  {
   "cell_type": "code",
   "execution_count": 14,
   "metadata": {},
   "outputs": [
    {
     "data": {
      "text/plain": [
       "<Figure size 640x480 with 1 Axes>"
      ]
     },
     "metadata": {},
     "output_type": "display_data"
    }
   ],
   "source": [
    "# ch4_14.py\n",
    "import pandas as pd\n",
    "import matplotlib.pyplot as plt\n",
    "\n",
    "population = [860, 1100, 1450, 1800, 2020, 2200, 2260]\n",
    "tw = pd.Series(population, index=range(1950, 2011, 10))\n",
    "tw.plot(title='Population in Taiwan')\n",
    "plt.xlabel(\"Year\")\n",
    "plt.ylabel(\"Population\")\n",
    "plt.show()"
   ]
  },
  {
   "cell_type": "code",
   "execution_count": 15,
   "metadata": {},
   "outputs": [
    {
     "data": {
      "image/png": "[encoded data removed]",
      "text/plain": [
       "<Figure size 432x288 with 1 Axes>"
      ]
     },
     "metadata": {
      "needs_background": "light"
     },
     "output_type": "display_data"
    }
   ],
   "source": [
    "# ch4_15.py\n",
    "import pandas as pd\n",
    "import matplotlib.pyplot as plt\n",
    "\n",
    "cities = {'population':[1000, 850, 800, 1500, 600, 800],\n",
    "          'town':['New York','Chicago','Bangkok','Tokyo',\n",
    "                   'Singapore','HongKong']}\n",
    "tw = pd.DataFrame(cities, columns=['population'],index=cities['town'])\n",
    "          \n",
    "tw.plot(title='Population in the World')\n",
    "plt.xlabel('City')\n",
    "plt.ylabel(\"Population\")\n",
    "plt.show()"
   ]
  },
  {
   "cell_type": "code",
   "execution_count": 16,
   "metadata": {},
   "outputs": [
    {
     "data": {
      "image/png": "[encoded data removed]",
      "text/plain": [
       "<Figure size 432x288 with 1 Axes>"
      ]
     },
     "metadata": {
      "needs_background": "light"
     },
     "output_type": "display_data"
    }
   ],
   "source": [
    "# ch4_16.py\n",
    "import pandas as pd\n",
    "import matplotlib.pyplot as plt\n",
    "\n",
    "cities = {'population':[1000, 850, 800, 1500, 600, 800],\n",
    "          'town':['New York','Chicago','Bangkok','Tokyo',\n",
    "                   'Singapore','HongKong']}\n",
    "tw = pd.DataFrame(cities, columns=['population'],index=cities['town'])\n",
    "          \n",
    "tw.plot(title='Population in the World',kind='bar')\n",
    "plt.xlabel('City')\n",
    "plt.ylabel(\"Population\")\n",
    "plt.show()"
   ]
  },
  {
   "cell_type": "code",
   "execution_count": 17,
   "metadata": {},
   "outputs": [
    {
     "data": {
      "image/png": "[encoded data removed]",
      "text/plain": [
       "<Figure size 432x288 with 1 Axes>"
      ]
     },
     "metadata": {
      "needs_background": "light"
     },
     "output_type": "display_data"
    }
   ],
   "source": [
    "# ch4_17.py\n",
    "import pandas as pd\n",
    "import matplotlib.pyplot as plt\n",
    "\n",
    "cities = {'population':[1000, 850, 800, 1500, 600, 800],\n",
    "          'area':[400, 500, 850, 300, 200, 320],\n",
    "          'town':['New York','Chicago','Bangkok','Tokyo',\n",
    "                   'Singapore','HongKong']}\n",
    "tw = pd.DataFrame(cities, columns=['population','area'],index=cities['town'])\n",
    "          \n",
    "tw.plot(title='Population in the World')\n",
    "plt.xlabel('City')\n",
    "plt.show()"
   ]
  },
  {
   "cell_type": "code",
   "execution_count": 18,
   "metadata": {},
   "outputs": [
    {
     "data": {
      "image/png": "[encoded data removed]",
      "text/plain": [
       "<Figure size 432x288 with 1 Axes>"
      ]
     },
     "metadata": {
      "needs_background": "light"
     },
     "output_type": "display_data"
    }
   ],
   "source": [
    "# ch4_18.py\n",
    "import pandas as pd\n",
    "import matplotlib.pyplot as plt\n",
    "\n",
    "cities = {'population':[10000000,8500000,8000000,15000000,6000000,8000000],\n",
    "          'area':[400, 500, 850, 300, 200, 320],\n",
    "          'town':['New York','Chicago','Bangkok','Tokyo',\n",
    "                   'Singapore','HongKong']}\n",
    "tw = pd.DataFrame(cities, columns=['population','area'],index=cities['town'])\n",
    "          \n",
    "tw.plot(title='Population in the World')\n",
    "plt.xlabel('City')\n",
    "plt.show()"
   ]
  },
  {
   "cell_type": "code",
   "execution_count": 19,
   "metadata": {},
   "outputs": [
    {
     "data": {
      "image/png": "[encoded data removed]",
      "text/plain": [
       "<Figure size 432x288 with 2 Axes>"
      ]
     },
     "metadata": {
      "needs_background": "light"
     },
     "output_type": "display_data"
    }
   ],
   "source": [
    "# ch4_19.py\n",
    "import pandas as pd\n",
    "import matplotlib.pyplot as plt\n",
    "\n",
    "cities = {'population':[10000000,8500000,8000000,15000000,6000000,8000000],\n",
    "          'area':[400, 500, 850, 300, 200, 320],\n",
    "          'town':['New York','Chicago','Bangkok','Tokyo',\n",
    "                   'Singapore','HongKong']}\n",
    "tw = pd.DataFrame(cities, columns=['population','area'],index=cities['town'])\n",
    "\n",
    "fig, ax = plt.subplots()\n",
    "fig.suptitle(\"City Statistics\")\n",
    "ax.set_ylabel(\"Population\")\n",
    "ax.set_xlabel(\"City\")\n",
    "\n",
    "ax2 = ax.twinx()\n",
    "ax2.set_ylabel(\"Area\")\n",
    "tw['population'].plot(ax=ax,rot=90)     # 繪製人口數線\n",
    "tw['area'].plot(ax=ax2, style='g-')     # 繪製面積線\n",
    "ax.legend(loc=1)                        # 圖例位置在右上\n",
    "ax2.legend(loc=2)                       # 圖例位置在左上\n",
    "plt.show()"
   ]
  },
  {
   "cell_type": "code",
   "execution_count": 20,
   "metadata": {},
   "outputs": [
    {
     "data": {
      "image/png": "[encoded data removed]",
      "text/plain": [
       "<Figure size 432x288 with 2 Axes>"
      ]
     },
     "metadata": {
      "needs_background": "light"
     },
     "output_type": "display_data"
    }
   ],
   "source": [
    "# ch4_20.py\n",
    "import pandas as pd\n",
    "import matplotlib.pyplot as plt\n",
    "\n",
    "cities = {'population':[10000000,8500000,8000000,15000000,6000000,8000000],\n",
    "          'area':[400, 500, 850, 300, 200, 320],\n",
    "          'town':['New York','Chicago','Bangkok','Tokyo',\n",
    "                   'Singapore','HongKong']}\n",
    "tw = pd.DataFrame(cities, columns=['population','area'],index=cities['town'])\n",
    "\n",
    "fig, ax = plt.subplots()\n",
    "fig.suptitle(\"City Statistics\")\n",
    "ax.set_ylabel(\"Population\")\n",
    "ax.set_xlabel(\"City\")\n",
    "ax.ticklabel_format(style='plain')      # 不用科學記號表示\n",
    "ax2 = ax.twinx()\n",
    "ax2.set_ylabel(\"Area\")\n",
    "tw['population'].plot(ax=ax,rot=90)     # 繪製人口數線\n",
    "tw['area'].plot(ax=ax2, style='g-')     # 繪製面積線\n",
    "ax.legend(loc=1)                        # 圖例位置在右上\n",
    "ax2.legend(loc=2)                       # 圖例位置在左上\n",
    "plt.show()"
   ]
  },
  {
   "cell_type": "code",
   "execution_count": 21,
   "metadata": {},
   "outputs": [
    {
     "data": {
      "image/png": "[encoded data removed]",
      "text/plain": [
       "<Figure size 432x288 with 1 Axes>"
      ]
     },
     "metadata": {},
     "output_type": "display_data"
    }
   ],
   "source": [
    "# ch4_21.py\n",
    "import pandas as pd\n",
    "import matplotlib.pyplot as plt\n",
    "\n",
    "fruits = ['Apples', 'Bananas', 'Grapes', 'Pears', 'Oranges']\n",
    "s = pd.Series([2300, 5000, 1200, 2500, 2900], index=fruits,\n",
    "              name='Fruits Shop')\n",
    "explode = [0.4, 0, 0, 0.2, 0]\n",
    "s.plot.pie(explode = explode, autopct='%1.2f%%')\n",
    "plt.show()"
   ]
  },
  {
   "cell_type": "code",
   "execution_count": 22,
   "metadata": {},
   "outputs": [
    {
     "name": "stdout",
     "output_type": "stream",
     "text": [
      "<class 'datetime.datetime'>\n",
      "現在時間 :  2020-05-17 21:35:58.967117\n"
     ]
    }
   ],
   "source": [
    "# ch4_21_1.py\n",
    "from datetime import datetime\n",
    "\n",
    "timeNow = datetime.now()\n",
    "print(type(timeNow))\n",
    "print(\"現在時間 : \", timeNow)"
   ]
  },
  {
   "cell_type": "code",
   "execution_count": 23,
   "metadata": {},
   "outputs": [
    {
     "name": "stdout",
     "output_type": "stream",
     "text": [
      "<class 'datetime.datetime'>\n",
      "現在時間 :  2020-05-17 21:36:15.236977\n",
      "年 :  2020\n",
      "月 :  5\n",
      "日 :  17\n",
      "時 :  21\n",
      "分 :  36\n",
      "秒 :  15\n"
     ]
    }
   ],
   "source": [
    "# ch4_21_2.py\n",
    "from datetime import datetime\n",
    "\n",
    "timeNow = datetime.now()\n",
    "print(type(timeNow))\n",
    "print(\"現在時間 : \", timeNow)\n",
    "print(\"年 : \", timeNow.year)\n",
    "print(\"月 : \", timeNow.month)\n",
    "print(\"日 : \", timeNow.day)\n",
    "print(\"時 : \", timeNow.hour)\n",
    "print(\"分 : \", timeNow.minute)\n",
    "print(\"秒 : \", timeNow.second)"
   ]
  },
  {
   "cell_type": "code",
   "execution_count": 24,
   "metadata": {},
   "outputs": [
    {
     "name": "stdout",
     "output_type": "stream",
     "text": [
      "Wake up\n"
     ]
    }
   ],
   "source": [
    "# ch4_21_3.py\n",
    "from datetime import datetime\n",
    "\n",
    "timeStop = datetime(2019,7,28,19,50,50)\n",
    "while datetime.now() < timeStop:\n",
    "    print(\"Program is sleeping.\", end=\"\")\n",
    "print(\"Wake up\")"
   ]
  },
  {
   "cell_type": "code",
   "execution_count": 25,
   "metadata": {},
   "outputs": [
    {
     "name": "stdout",
     "output_type": "stream",
     "text": [
      "3 18490 0\n"
     ]
    }
   ],
   "source": [
    "# ch4_21_4.py\n",
    "from datetime import datetime, timedelta\n",
    "\n",
    "deltaTime = timedelta(days=3,hours=5,minutes=8,seconds=10)\n",
    "print(deltaTime.days, deltaTime.seconds, deltaTime.microseconds)"
   ]
  },
  {
   "cell_type": "code",
   "execution_count": 26,
   "metadata": {},
   "outputs": [
    {
     "name": "stdout",
     "output_type": "stream",
     "text": [
      "277690.0\n"
     ]
    }
   ],
   "source": [
    "# ch4_21_5.py\n",
    "from datetime import datetime, timedelta\n",
    "\n",
    "deltaTime = timedelta(days=3,hours=5,minutes=8,seconds=10)\n",
    "print(deltaTime.total_seconds())"
   ]
  },
  {
   "cell_type": "code",
   "execution_count": 27,
   "metadata": {},
   "outputs": [
    {
     "name": "stdout",
     "output_type": "stream",
     "text": [
      "<class 'pandas.core.series.Series'>\n",
      "2019-03-11    34\n",
      "2019-03-12    44\n",
      "2019-03-13    65\n",
      "2019-03-14    53\n",
      "2019-03-15    39\n",
      "dtype: int64\n"
     ]
    }
   ],
   "source": [
    "# ch4_21_6.py\n",
    "import pandas as pd\n",
    "from datetime import datetime, timedelta\n",
    "\n",
    "ndays = 5\n",
    "start = datetime(2019, 3, 11)   \n",
    "dates = [start + timedelta(days=x) for x in range(0, ndays)]\n",
    "data = [34, 44, 65, 53, 39]\n",
    "ts = pd.Series(data, index=dates)\n",
    "print(type(ts))\n",
    "print(ts)"
   ]
  },
  {
   "cell_type": "code",
   "execution_count": 28,
   "metadata": {},
   "outputs": [
    {
     "name": "stdout",
     "output_type": "stream",
     "text": [
      "ts1+ts2\n",
      "2019-03-11     68\n",
      "2019-03-12     88\n",
      "2019-03-13    130\n",
      "2019-03-14    106\n",
      "2019-03-15     78\n",
      "dtype: int64\n",
      "(ts1+ts2)/2\n",
      "2019-03-11    34.0\n",
      "2019-03-12    44.0\n",
      "2019-03-13    65.0\n",
      "2019-03-14    53.0\n",
      "2019-03-15    39.0\n",
      "dtype: float64\n"
     ]
    }
   ],
   "source": [
    "# ch4_21_7.py\n",
    "import pandas as pd\n",
    "from datetime import datetime, timedelta\n",
    "\n",
    "ndays = 5\n",
    "start = datetime(2019, 3, 11)   \n",
    "dates = [start + timedelta(days=x) for x in range(0, ndays)]\n",
    "data1 = [34, 44, 65, 53, 39]\n",
    "ts1 = pd.Series(data1, index=dates)\n",
    "\n",
    "data2 = [34, 44, 65, 53, 39]\n",
    "ts2 = pd.Series(data2, index=dates)\n",
    "\n",
    "addts = ts1 + ts2\n",
    "print(\"ts1+ts2\")\n",
    "print(addts)\n",
    "\n",
    "meants = (ts1 + ts2)/2\n",
    "print(\"(ts1+ts2)/2\")\n",
    "print(meants)"
   ]
  },
  {
   "cell_type": "code",
   "execution_count": 29,
   "metadata": {},
   "outputs": [
    {
     "name": "stdout",
     "output_type": "stream",
     "text": [
      "ts1+ts2\n",
      "2019-03-07     NaN\n",
      "2019-03-08     NaN\n",
      "2019-03-09     NaN\n",
      "2019-03-10     NaN\n",
      "2019-03-11    68.0\n",
      "2019-03-12     NaN\n",
      "2019-03-13     NaN\n",
      "2019-03-14     NaN\n",
      "2019-03-15     NaN\n",
      "dtype: float64\n"
     ]
    }
   ],
   "source": [
    "# ch4_21_8.py\n",
    "import pandas as pd\n",
    "from datetime import datetime, timedelta\n",
    "\n",
    "ndays = 5\n",
    "start = datetime(2019, 3, 11)   \n",
    "dates1 = [start + timedelta(days=x) for x in range(0, ndays)]\n",
    "data1 = [34, 44, 65, 53, 39]\n",
    "ts1 = pd.Series(data1, index=dates1)\n",
    "\n",
    "dates2 = [start - timedelta(days=x) for x in range(0, ndays)]\n",
    "data2 = [34, 44, 65, 53, 39]\n",
    "ts2 = pd.Series(data2, index=dates2)\n",
    "\n",
    "addts = ts1 + ts2\n",
    "print(\"ts1+ts2\")\n",
    "print(addts)"
   ]
  },
  {
   "cell_type": "code",
   "execution_count": 30,
   "metadata": {},
   "outputs": [
    {
     "name": "stdout",
     "output_type": "stream",
     "text": [
      "<class 'pandas.core.series.Series'>\n",
      "2019-03-11    34\n",
      "2019-03-12    44\n",
      "2019-03-13    65\n",
      "2019-03-14    53\n",
      "2019-03-15    39\n",
      "Freq: D, dtype: int64\n"
     ]
    }
   ],
   "source": [
    "# ch4_21_9.py\n",
    "import pandas as pd\n",
    "\n",
    "dates = pd.date_range('3/11/2019', '3/15/2019')\n",
    "data = [34, 44, 65, 53, 39]\n",
    "ts = pd.Series(data, index=dates)\n",
    "print(type(ts))\n",
    "print(ts)"
   ]
  },
  {
   "cell_type": "code",
   "execution_count": 31,
   "metadata": {},
   "outputs": [
    {
     "data": {
      "image/png": "[encoded data removed]",
      "text/plain": [
       "<Figure size 432x288 with 1 Axes>"
      ]
     },
     "metadata": {
      "needs_background": "light"
     },
     "output_type": "display_data"
    }
   ],
   "source": [
    "# ch4_21_10.py\n",
    "import pandas as pd\n",
    "import matplotlib.pyplot as plt\n",
    "\n",
    "dates = pd.date_range('3/11/2019', '3/15/2019')\n",
    "data = [34, 44, 65, 53, 39]\n",
    "ts = pd.Series(data, index=dates)\n",
    "ts.plot(title='Data in Time Series')\n",
    "plt.xlabel(\"Date\")\n",
    "plt.ylabel(\"Data\")\n",
    "plt.show()"
   ]
  },
  {
   "cell_type": "code",
   "execution_count": 32,
   "metadata": {},
   "outputs": [
    {
     "name": "stdout",
     "output_type": "stream",
     "text": [
      "下載成功\n"
     ]
    }
   ],
   "source": [
    "# ch4_22.py\n",
    "import requests\n",
    "\n",
    "url = 'http://archive.ics.uci.edu/ml/machine-learning-databases/iris/iris.data'\n",
    "try:\n",
    "    htmlfile = requests.get(url)                        # 將檔案下載至htmlfile\n",
    "    print('下載成功')\n",
    "except Exception as err:\n",
    "    print('下載失敗')\n",
    "\n",
    "fn = 'iris.csv'                                         # 未來儲存鳶尾花的檔案\n",
    "with open(fn, 'wb') as fileobj:                         # 開啟iris.csv\n",
    "    for diskstorage in htmlfile.iter_content(10240):\n",
    "        size = fileobj.write(diskstorage)               # 寫入"
   ]
  },
  {
   "cell_type": "code",
   "execution_count": 33,
   "metadata": {},
   "outputs": [
    {
     "name": "stdout",
     "output_type": "stream",
     "text": [
      "資料集長度 :  150\n",
      "     sepal_len  sepal_wd  petal_len  petal_wd         species\n",
      "0          5.1       3.5        1.4       0.2     Iris-setosa\n",
      "1          4.9       3.0        1.4       0.2     Iris-setosa\n",
      "2          4.7       3.2        1.3       0.2     Iris-setosa\n",
      "3          4.6       3.1        1.5       0.2     Iris-setosa\n",
      "4          5.0       3.6        1.4       0.2     Iris-setosa\n",
      "5          5.4       3.9        1.7       0.4     Iris-setosa\n",
      "6          4.6       3.4        1.4       0.3     Iris-setosa\n",
      "7          5.0       3.4        1.5       0.2     Iris-setosa\n",
      "8          4.4       2.9        1.4       0.2     Iris-setosa\n",
      "9          4.9       3.1        1.5       0.1     Iris-setosa\n",
      "10         5.4       3.7        1.5       0.2     Iris-setosa\n",
      "11         4.8       3.4        1.6       0.2     Iris-setosa\n",
      "12         4.8       3.0        1.4       0.1     Iris-setosa\n",
      "13         4.3       3.0        1.1       0.1     Iris-setosa\n",
      "14         5.8       4.0        1.2       0.2     Iris-setosa\n",
      "15         5.7       4.4        1.5       0.4     Iris-setosa\n",
      "16         5.4       3.9        1.3       0.4     Iris-setosa\n",
      "17         5.1       3.5        1.4       0.3     Iris-setosa\n",
      "18         5.7       3.8        1.7       0.3     Iris-setosa\n",
      "19         5.1       3.8        1.5       0.3     Iris-setosa\n",
      "20         5.4       3.4        1.7       0.2     Iris-setosa\n",
      "21         5.1       3.7        1.5       0.4     Iris-setosa\n",
      "22         4.6       3.6        1.0       0.2     Iris-setosa\n",
      "23         5.1       3.3        1.7       0.5     Iris-setosa\n",
      "24         4.8       3.4        1.9       0.2     Iris-setosa\n",
      "25         5.0       3.0        1.6       0.2     Iris-setosa\n",
      "26         5.0       3.4        1.6       0.4     Iris-setosa\n",
      "27         5.2       3.5        1.5       0.2     Iris-setosa\n",
      "28         5.2       3.4        1.4       0.2     Iris-setosa\n",
      "29         4.7       3.2        1.6       0.2     Iris-setosa\n",
      "..         ...       ...        ...       ...             ...\n",
      "120        6.9       3.2        5.7       2.3  Iris-virginica\n",
      "121        5.6       2.8        4.9       2.0  Iris-virginica\n",
      "122        7.7       2.8        6.7       2.0  Iris-virginica\n",
      "123        6.3       2.7        4.9       1.8  Iris-virginica\n",
      "124        6.7       3.3        5.7       2.1  Iris-virginica\n",
      "125        7.2       3.2        6.0       1.8  Iris-virginica\n",
      "126        6.2       2.8        4.8       1.8  Iris-virginica\n",
      "127        6.1       3.0        4.9       1.8  Iris-virginica\n",
      "128        6.4       2.8        5.6       2.1  Iris-virginica\n",
      "129        7.2       3.0        5.8       1.6  Iris-virginica\n",
      "130        7.4       2.8        6.1       1.9  Iris-virginica\n",
      "131        7.9       3.8        6.4       2.0  Iris-virginica\n",
      "132        6.4       2.8        5.6       2.2  Iris-virginica\n",
      "133        6.3       2.8        5.1       1.5  Iris-virginica\n",
      "134        6.1       2.6        5.6       1.4  Iris-virginica\n",
      "135        7.7       3.0        6.1       2.3  Iris-virginica\n",
      "136        6.3       3.4        5.6       2.4  Iris-virginica\n",
      "137        6.4       3.1        5.5       1.8  Iris-virginica\n",
      "138        6.0       3.0        4.8       1.8  Iris-virginica\n",
      "139        6.9       3.1        5.4       2.1  Iris-virginica\n",
      "140        6.7       3.1        5.6       2.4  Iris-virginica\n",
      "141        6.9       3.1        5.1       2.3  Iris-virginica\n",
      "142        5.8       2.7        5.1       1.9  Iris-virginica\n",
      "143        6.8       3.2        5.9       2.3  Iris-virginica\n",
      "144        6.7       3.3        5.7       2.5  Iris-virginica\n",
      "145        6.7       3.0        5.2       2.3  Iris-virginica\n",
      "146        6.3       2.5        5.0       1.9  Iris-virginica\n",
      "147        6.5       3.0        5.2       2.0  Iris-virginica\n",
      "148        6.2       3.4        5.4       2.3  Iris-virginica\n",
      "149        5.9       3.0        5.1       1.8  Iris-virginica\n",
      "\n",
      "[150 rows x 5 columns]\n"
     ]
    }
   ],
   "source": [
    "# ch4_23.py\n",
    "import pandas as pd\n",
    "\n",
    "colName = ['sepal_len','sepal_wd','petal_len','petal_wd','species']\n",
    "iris = pd.read_csv('iris.csv', names = colName)\n",
    "print('資料集長度 : ', len(iris))\n",
    "print(iris)"
   ]
  },
  {
   "cell_type": "code",
   "execution_count": 34,
   "metadata": {},
   "outputs": [
    {
     "data": {
      "image/png": "[encoded data removed]",
      "text/plain": [
       "<Figure size 432x288 with 1 Axes>"
      ]
     },
     "metadata": {
      "needs_background": "light"
     },
     "output_type": "display_data"
    }
   ],
   "source": [
    "# ch4_24.py\n",
    "import pandas as pd\n",
    "import matplotlib.pyplot as plt\n",
    "\n",
    "colName = ['sepal_len','sepal_wd','petal_len','petal_wd','species']\n",
    "iris = pd.read_csv('iris.csv', names = colName)\n",
    "\n",
    "iris.plot(x='sepal_len',y='sepal_wd',kind='scatter')\n",
    "plt.xlabel('Sepal Length')\n",
    "plt.ylabel('Sepal Width')\n",
    "plt.title('Iris Sepal length and width anslysis')\n",
    "plt.show()"
   ]
  },
  {
   "cell_type": "code",
   "execution_count": 35,
   "metadata": {},
   "outputs": [
    {
     "data": {
      "image/png": "[encoded data removed]",
      "text/plain": [
       "<Figure size 432x288 with 1 Axes>"
      ]
     },
     "metadata": {
      "needs_background": "light"
     },
     "output_type": "display_data"
    }
   ],
   "source": [
    "# ch4_25.py\n",
    "import pandas as pd\n",
    "import matplotlib.pyplot as plt\n",
    "\n",
    "colName = ['sepal_len','sepal_wd','petal_len','petal_wd','species']\n",
    "iris = pd.read_csv('iris.csv', names = colName)\n",
    "\n",
    "plt.plot(iris['sepal_len'],iris['sepal_wd'],'*',color='g')\n",
    "plt.xlabel('Sepal Length')\n",
    "plt.ylabel('Sepal Width')\n",
    "plt.title('Iris Sepal length and width anslysis')\n",
    "plt.show()"
   ]
  },
  {
   "cell_type": "code",
   "execution_count": 36,
   "metadata": {},
   "outputs": [
    {
     "data": {
      "image/png": "[encoded data removed]",
      "text/plain": [
       "<Figure size 432x288 with 1 Axes>"
      ]
     },
     "metadata": {
      "needs_background": "light"
     },
     "output_type": "display_data"
    }
   ],
   "source": [
    "# ch4_26.py\n",
    "import pandas as pd\n",
    "import matplotlib.pyplot as plt\n",
    "\n",
    "colName = ['sepal_len','sepal_wd','petal_len','petal_wd','species']\n",
    "iris = pd.read_csv('iris.csv', names = colName)\n",
    "\n",
    "# 擷取不同品種的鳶尾花\n",
    "iris_setosa = iris[iris['species'] == 'Iris-setosa']\n",
    "iris_versicolor = iris[iris['species'] == 'Iris-versicolor']\n",
    "iris_virginica = iris[iris['species'] == 'Iris-virginica']\n",
    "# 繪製散點圖\n",
    "plt.plot(iris_setosa['sepal_len'],iris_setosa['sepal_wd'],\n",
    "         '*',color='g',label='setosa')\n",
    "plt.plot(iris_versicolor['sepal_len'],iris_versicolor['sepal_wd'],\n",
    "         'x',color='b',label='versicolor')\n",
    "plt.plot(iris_virginica['sepal_len'],iris_virginica['sepal_wd'],\n",
    "         '.',color='r',label='virginica')\n",
    "# 標註軸和標題\n",
    "plt.xlabel('Sepal Length')\n",
    "plt.ylabel('Sepal Width')\n",
    "plt.title('Iris Sepal length and width anslysis')\n",
    "plt.legend()\n",
    "plt.show()"
   ]
  },
  {
   "cell_type": "code",
   "execution_count": 37,
   "metadata": {},
   "outputs": [
    {
     "data": {
      "image/png": "[encoded data removed]",
      "text/plain": [
       "<Figure size 432x288 with 1 Axes>"
      ]
     },
     "metadata": {
      "needs_background": "light"
     },
     "output_type": "display_data"
    }
   ],
   "source": [
    "# ch4_27.py\n",
    "import pandas as pd\n",
    "import matplotlib.pyplot as plt\n",
    "\n",
    "colName = ['sepal_len','sepal_wd','petal_len','petal_wd','species']\n",
    "iris = pd.read_csv('iris.csv', names = colName)\n",
    "\n",
    "# 鳶尾花分組統計均值\n",
    "iris_mean = iris.groupby('species', as_index=False).mean()\n",
    "# 繪製直條圖\n",
    "iris_mean.plot(kind='bar')\n",
    "# 刻度處理\n",
    "plt.xticks(iris_mean.index,iris_mean['species'], rotation=0)\n",
    "\n",
    "plt.show()"
   ]
  },
  {
   "cell_type": "code",
   "execution_count": 38,
   "metadata": {},
   "outputs": [
    {
     "data": {
      "image/png": "[encoded data removed]",
      "text/plain": [
       "<Figure size 432x288 with 1 Axes>"
      ]
     },
     "metadata": {
      "needs_background": "light"
     },
     "output_type": "display_data"
    }
   ],
   "source": [
    "# ch4_28.py\n",
    "import pandas as pd\n",
    "import matplotlib.pyplot as plt\n",
    "\n",
    "colName = ['sepal_len','sepal_wd','petal_len','petal_wd','species']\n",
    "iris = pd.read_csv('iris.csv', names = colName)\n",
    "iris['species'] = iris['species'].apply(lambda x: x.replace(\"Iris-\",\"\"))\n",
    "# 鳶尾花分組統計均值\n",
    "iris_mean = iris.groupby('species', as_index=False).mean()\n",
    "# 繪製直條圖\n",
    "iris_mean.plot(kind='bar')\n",
    "# 刻度處理\n",
    "plt.xticks(iris_mean.index,iris_mean['species'], rotation=0)\n",
    "\n",
    "plt.show()"
   ]
  },
  {
   "cell_type": "code",
   "execution_count": 39,
   "metadata": {},
   "outputs": [
    {
     "data": {
      "image/png": "[encoded data removed]",
      "text/plain": [
       "<Figure size 432x288 with 1 Axes>"
      ]
     },
     "metadata": {
      "needs_background": "light"
     },
     "output_type": "display_data"
    }
   ],
   "source": [
    "# ch4_29.py\n",
    "import pandas as pd\n",
    "import matplotlib.pyplot as plt\n",
    "\n",
    "colName = ['sepal_len','sepal_wd','petal_len','petal_wd','species']\n",
    "iris = pd.read_csv('iris.csv', names = colName)\n",
    "iris['species'] = iris['species'].apply(lambda x: x.replace(\"Iris-\",\"\"))\n",
    "# 鳶尾花分組統計均值\n",
    "iris_mean = iris.groupby('species', as_index=False).mean()\n",
    "# 繪製堆疊直條圖\n",
    "iris_mean.plot(kind='bar',stacked=True)\n",
    "# 刻度處理\n",
    "plt.xticks(iris_mean.index,iris_mean['species'], rotation=0)\n",
    "\n",
    "plt.show()"
   ]
  },
  {
   "cell_type": "code",
   "execution_count": 40,
   "metadata": {},
   "outputs": [
    {
     "data": {
      "image/png": "[encoded data removed]",
      "text/plain": [
       "<Figure size 432x288 with 1 Axes>"
      ]
     },
     "metadata": {
      "needs_background": "light"
     },
     "output_type": "display_data"
    }
   ],
   "source": [
    "# ch4_30.py\n",
    "import pandas as pd\n",
    "import matplotlib.pyplot as plt\n",
    "\n",
    "colName = ['sepal_len','sepal_wd','petal_len','petal_wd','species']\n",
    "iris = pd.read_csv('iris.csv', names = colName)\n",
    "iris['species'] = iris['species'].apply(lambda x: x.replace(\"Iris-\",\"\"))\n",
    "# 鳶尾花分組統計均值\n",
    "iris_mean = iris.groupby('species', as_index=False).mean()\n",
    "# 繪製堆疊橫條圖\n",
    "iris_mean.plot(kind='barh',stacked=True)\n",
    "# 刻度處理\n",
    "plt.yticks(iris_mean.index,iris_mean['species'], rotation=0)\n",
    "\n",
    "plt.show()"
   ]
  },
  {
   "cell_type": "code",
   "execution_count": 41,
   "metadata": {},
   "outputs": [
    {
     "name": "stdout",
     "output_type": "stream",
     "text": [
      "<class 'list'>\n",
      "[                                                   0\n",
      "0  google_ad_client = \"ca-pub-9803646600609510\"; ...,                                                    0\n",
      "0  google_ad_client = \"ca-pub-9803646600609510\"; ...\n",
      "1  首頁 市場動態 歷史股價 基金淨值 基金分類 經濟數據總覽 美元定存  技術指標 期貨報告 ...,     0                                                  1\n",
      "0 NaN  google_ad_client = \"ca-pub-9803646600609510\"; ...,                                                    0     1\n",
      "0  首頁 市場動態 歷史股價 基金淨值 基金分類 經濟數據總覽 美元定存  技術指標 期貨報告 ...  简体中文,                                                    0  \\\n",
      "0  市場動態 全球股市排行榜 相對低檔股市指數 相對高檔股市指數 亞洲股市指數 歐洲股市、非洲指...   \n",
      "\n",
      "                                                   1  \n",
      "0  全球貨幣匯率 刷新時間 2020/5/17 21:40:50  全球匯率 (Currency...  ,                                                    0\n",
      "0  市場動態 全球股市排行榜 相對低檔股市指數 相對高檔股市指數 亞洲股市指數 歐洲股市、非洲指...,                                 0   1\n",
      "0  全球貨幣匯率 刷新時間 2020/5/17 21:40:50 NaN,                            0                         1  \\\n",
      "0   全球匯率 (Currency Exchange)  全球匯率 (Currency Exchange)   \n",
      "1                         貨幣                        匯率   \n",
      "2                      歐元/美元                    1.0818   \n",
      "3                      英鎊/美元                    1.2104   \n",
      "4                    美元/瑞士法郎                    0.9714   \n",
      "5                    美元/瑞典克朗                    9.8659   \n",
      "6                     美元/俄盧布                   73.6160   \n",
      "7                    美元/匈牙利幣                    327.49   \n",
      "8                    美元/土耳其幣                    6.8992   \n",
      "9                     美元/南非幣                   18.5599   \n",
      "10                   美元/以色列幣                    3.5353   \n",
      "11                    美元/摩洛哥                    9.8865   \n",
      "12                     澳幣/美元                    0.6413   \n",
      "13                     紐幣/美元                    0.5933   \n",
      "14                     美元/日圓                    107.02   \n",
      "15                    美元/人民幣                    7.1013   \n",
      "16                     美元/港幣                    7.7508   \n",
      "17                     美元/台幣                    29.954   \n",
      "18                     美元/韓圜                   1232.69   \n",
      "19                     美元/泰銖                    32.080   \n",
      "20                     美元/新元                    1.4271   \n",
      "21                    美元/菲披索                    50.650   \n",
      "22                    美元/馬來幣                    4.3490   \n",
      "23                    美元/印尼盾                   14830.0   \n",
      "24                   美元/印度盧比                    75.817   \n",
      "25                     美元/加幣                    1.4107   \n",
      "26                    美元/巴西幣                    5.8554   \n",
      "27                    美元/墨披索                   23.9282   \n",
      "28                    美元/阿根廷                   67.5850   \n",
      "29                     美元/智利                    827.13   \n",
      "\n",
      "                           2                         3  \\\n",
      "0   全球匯率 (Currency Exchange)  全球匯率 (Currency Exchange)   \n",
      "1                         漲跌                        比例   \n",
      "2                     0.0016                     0.15%   \n",
      "3                    -0.0120                    -0.98%   \n",
      "4                    -0.0014                    -0.15%   \n",
      "5                     0.0646                     0.66%   \n",
      "6                     0.1285                     0.17%   \n",
      "7                       0.18                     0.06%   \n",
      "8                    -0.0168                    -0.24%   \n",
      "9                     0.1460                     0.79%   \n",
      "10                   -0.0040                    -0.11%   \n",
      "11                    0.0333                     0.34%   \n",
      "12                   -0.0047                    -0.73%   \n",
      "13                   -0.0066                    -1.11%   \n",
      "14                     -0.20                    -0.19%   \n",
      "15                    0.0086                     0.12%   \n",
      "16                   -0.0006                    -0.01%   \n",
      "17                     0.090                     0.30%   \n",
      "18                      6.16                     0.50%   \n",
      "19                     0.000                     0.00%   \n",
      "20                    0.0043                     0.30%   \n",
      "21                     0.180                     0.36%   \n",
      "22                    0.0135                     0.31%   \n",
      "23                      20.0                     0.13%   \n",
      "24                     0.350                     0.46%   \n",
      "25                    0.0061                     0.43%   \n",
      "26                    0.0456                     0.78%   \n",
      "27                    0.0757                     0.32%   \n",
      "28                    0.0915                     0.14%   \n",
      "29                      6.17                     0.75%   \n",
      "\n",
      "                           4  \n",
      "0   全球匯率 (Currency Exchange)  \n",
      "1                         台北  \n",
      "2                      04:59  \n",
      "3                      04:59  \n",
      "4                      04:59  \n",
      "5                      04:59  \n",
      "6                      04:50  \n",
      "7                      04:59  \n",
      "8                      04:59  \n",
      "9                      04:58  \n",
      "10                     04:59  \n",
      "11                     04:59  \n",
      "12                     04:59  \n",
      "13                     04:59  \n",
      "14                     04:59  \n",
      "15                     23:30  \n",
      "16                     04:56  \n",
      "17                     04:59  \n",
      "18                     04:59  \n",
      "19                     04:59  \n",
      "20                     04:59  \n",
      "21                     04:54  \n",
      "22                     21:46  \n",
      "23                     15:58  \n",
      "24                     04:59  \n",
      "25                     04:59  \n",
      "26                     04:59  \n",
      "27                     04:59  \n",
      "28                     04:57  \n",
      "29                     04:57  ,                                                    0\n",
      "0  google_ad_client = \"ca-pub-9803646600609510\"; ...,                                                    0\n",
      "0            行動網站  | 借錢救急 | Outlet  | 網站地圖  | 聯絡我們 ﻿\n",
      "1  StockQ 全球股市指數 / 简体版 / English / Indeks pasar ©...]\n"
     ]
    }
   ],
   "source": [
    "# ch4_31.py\n",
    "import pandas as pd\n",
    "\n",
    "url = 'http://www.stockq.org/market/currency.php'\n",
    "currencys = pd.read_html(url)\n",
    "\n",
    "print(type(currencys))              # 列出資料型態\n",
    "print(currencys)                    # 列出匯率的串列內容"
   ]
  },
  {
   "cell_type": "code",
   "execution_count": 42,
   "metadata": {},
   "outputs": [
    {
     "name": "stdout",
     "output_type": "stream",
     "text": [
      "元素 :  0\n",
      "                                                   0\n",
      "0  google_ad_client = \"ca-pub-9803646600609510\"; ...\n",
      "\n",
      "元素 :  1\n",
      "                                                   0\n",
      "0  google_ad_client = \"ca-pub-9803646600609510\"; ...\n",
      "1  首頁 市場動態 歷史股價 基金淨值 基金分類 經濟數據總覽 美元定存  技術指標 期貨報告 ...\n",
      "\n",
      "元素 :  2\n",
      "    0                                                  1\n",
      "0 NaN  google_ad_client = \"ca-pub-9803646600609510\"; ...\n",
      "\n",
      "元素 :  3\n",
      "                                                   0     1\n",
      "0  首頁 市場動態 歷史股價 基金淨值 基金分類 經濟數據總覽 美元定存  技術指標 期貨報告 ...  简体中文\n",
      "\n",
      "元素 :  4\n",
      "                                                   0  \\\n",
      "0  市場動態 全球股市排行榜 相對低檔股市指數 相對高檔股市指數 亞洲股市指數 歐洲股市、非洲指...   \n",
      "\n",
      "                                                   1  \n",
      "0  全球貨幣匯率 刷新時間 2020/5/17 21:41:09  全球匯率 (Currency...  \n",
      "\n",
      "元素 :  5\n",
      "                                                   0\n",
      "0  市場動態 全球股市排行榜 相對低檔股市指數 相對高檔股市指數 亞洲股市指數 歐洲股市、非洲指...\n",
      "\n",
      "元素 :  6\n",
      "                                0   1\n",
      "0  全球貨幣匯率 刷新時間 2020/5/17 21:41:09 NaN\n",
      "\n",
      "元素 :  7\n",
      "                           0                         1  \\\n",
      "0   全球匯率 (Currency Exchange)  全球匯率 (Currency Exchange)   \n",
      "1                         貨幣                        匯率   \n",
      "2                      歐元/美元                    1.0818   \n",
      "3                      英鎊/美元                    1.2104   \n",
      "4                    美元/瑞士法郎                    0.9714   \n",
      "5                    美元/瑞典克朗                    9.8659   \n",
      "6                     美元/俄盧布                   73.6160   \n",
      "7                    美元/匈牙利幣                    327.49   \n",
      "8                    美元/土耳其幣                    6.8992   \n",
      "9                     美元/南非幣                   18.5599   \n",
      "10                   美元/以色列幣                    3.5353   \n",
      "11                    美元/摩洛哥                    9.8865   \n",
      "12                     澳幣/美元                    0.6413   \n",
      "13                     紐幣/美元                    0.5933   \n",
      "14                     美元/日圓                    107.02   \n",
      "15                    美元/人民幣                    7.1013   \n",
      "16                     美元/港幣                    7.7508   \n",
      "17                     美元/台幣                    29.954   \n",
      "18                     美元/韓圜                   1232.69   \n",
      "19                     美元/泰銖                    32.080   \n",
      "20                     美元/新元                    1.4271   \n",
      "21                    美元/菲披索                    50.650   \n",
      "22                    美元/馬來幣                    4.3490   \n",
      "23                    美元/印尼盾                   14830.0   \n",
      "24                   美元/印度盧比                    75.817   \n",
      "25                     美元/加幣                    1.4107   \n",
      "26                    美元/巴西幣                    5.8554   \n",
      "27                    美元/墨披索                   23.9282   \n",
      "28                    美元/阿根廷                   67.5850   \n",
      "29                     美元/智利                    827.13   \n",
      "\n",
      "                           2                         3  \\\n",
      "0   全球匯率 (Currency Exchange)  全球匯率 (Currency Exchange)   \n",
      "1                         漲跌                        比例   \n",
      "2                     0.0016                     0.15%   \n",
      "3                    -0.0120                    -0.98%   \n",
      "4                    -0.0014                    -0.15%   \n",
      "5                     0.0646                     0.66%   \n",
      "6                     0.1285                     0.17%   \n",
      "7                       0.18                     0.06%   \n",
      "8                    -0.0168                    -0.24%   \n",
      "9                     0.1460                     0.79%   \n",
      "10                   -0.0040                    -0.11%   \n",
      "11                    0.0333                     0.34%   \n",
      "12                   -0.0047                    -0.73%   \n",
      "13                   -0.0066                    -1.11%   \n",
      "14                     -0.20                    -0.19%   \n",
      "15                    0.0086                     0.12%   \n",
      "16                   -0.0006                    -0.01%   \n",
      "17                     0.090                     0.30%   \n",
      "18                      6.16                     0.50%   \n",
      "19                     0.000                     0.00%   \n",
      "20                    0.0043                     0.30%   \n",
      "21                     0.180                     0.36%   \n",
      "22                    0.0135                     0.31%   \n",
      "23                      20.0                     0.13%   \n",
      "24                     0.350                     0.46%   \n",
      "25                    0.0061                     0.43%   \n",
      "26                    0.0456                     0.78%   \n",
      "27                    0.0757                     0.32%   \n",
      "28                    0.0915                     0.14%   \n",
      "29                      6.17                     0.75%   \n",
      "\n",
      "                           4  \n",
      "0   全球匯率 (Currency Exchange)  \n",
      "1                         台北  \n",
      "2                      04:59  \n",
      "3                      04:59  \n",
      "4                      04:59  \n",
      "5                      04:59  \n",
      "6                      04:50  \n",
      "7                      04:59  \n",
      "8                      04:59  \n",
      "9                      04:58  \n",
      "10                     04:59  \n",
      "11                     04:59  \n",
      "12                     04:59  \n",
      "13                     04:59  \n",
      "14                     04:59  \n",
      "15                     23:30  \n",
      "16                     04:56  \n",
      "17                     04:59  \n",
      "18                     04:59  \n",
      "19                     04:59  \n",
      "20                     04:59  \n",
      "21                     04:54  \n",
      "22                     21:46  \n",
      "23                     15:58  \n",
      "24                     04:59  \n",
      "25                     04:59  \n",
      "26                     04:59  \n",
      "27                     04:59  \n",
      "28                     04:57  \n",
      "29                     04:57  \n",
      "\n",
      "元素 :  8\n",
      "                                                   0\n",
      "0  google_ad_client = \"ca-pub-9803646600609510\"; ...\n",
      "\n",
      "元素 :  9\n",
      "                                                   0\n",
      "0            行動網站  | 借錢救急 | Outlet  | 網站地圖  | 聯絡我們 ﻿\n",
      "1  StockQ 全球股市指數 / 简体版 / English / Indeks pasar ©...\n",
      "\n"
     ]
    }
   ],
   "source": [
    "# ch4_32.py\n",
    "import pandas as pd\n",
    "\n",
    "url = 'http://www.stockq.org/market/currency.php'\n",
    "currencys = pd.read_html(url)         # 讀取全球匯率行情表\n",
    "\n",
    "item = 0\n",
    "for currency in currencys:\n",
    "    print(\"元素 : \", item)            # 列出元素編號\n",
    "    print(currency)                   # 列出元素內容\n",
    "    print()\n",
    "    item += 1"
   ]
  },
  {
   "cell_type": "code",
   "execution_count": 43,
   "metadata": {},
   "outputs": [
    {
     "name": "stdout",
     "output_type": "stream",
     "text": [
      "         貨幣       匯率       漲跌      比例     台北\n",
      "0     歐元/美元   1.0818   0.0016   0.15%  04:59\n",
      "1     英鎊/美元   1.2104  -0.0120  -0.98%  04:59\n",
      "2   美元/瑞士法郎   0.9714  -0.0014  -0.15%  04:59\n",
      "3   美元/瑞典克朗   9.8659   0.0646   0.66%  04:59\n",
      "4    美元/俄盧布  73.6160   0.1285   0.17%  04:50\n",
      "5   美元/匈牙利幣   327.49     0.18   0.06%  04:59\n",
      "6   美元/土耳其幣   6.8992  -0.0168  -0.24%  04:59\n",
      "7    美元/南非幣  18.5599   0.1460   0.79%  04:58\n",
      "8   美元/以色列幣   3.5353  -0.0040  -0.11%  04:59\n",
      "9    美元/摩洛哥   9.8865   0.0333   0.34%  04:59\n",
      "10    澳幣/美元   0.6413  -0.0047  -0.73%  04:59\n",
      "11    紐幣/美元   0.5933  -0.0066  -1.11%  04:59\n",
      "12    美元/日圓   107.02    -0.20  -0.19%  04:59\n",
      "13   美元/人民幣   7.1013   0.0086   0.12%  23:30\n",
      "14    美元/港幣   7.7508  -0.0006  -0.01%  04:56\n",
      "15    美元/台幣   29.954    0.090   0.30%  04:59\n",
      "16    美元/韓圜  1232.69     6.16   0.50%  04:59\n",
      "17    美元/泰銖   32.080    0.000   0.00%  04:59\n",
      "18    美元/新元   1.4271   0.0043   0.30%  04:59\n",
      "19   美元/菲披索   50.650    0.180   0.36%  04:54\n",
      "20   美元/馬來幣   4.3490   0.0135   0.31%  21:46\n",
      "21   美元/印尼盾  14830.0     20.0   0.13%  15:58\n",
      "22  美元/印度盧比   75.817    0.350   0.46%  04:59\n",
      "23    美元/加幣   1.4107   0.0061   0.43%  04:59\n",
      "24   美元/巴西幣   5.8554   0.0456   0.78%  04:59\n",
      "25   美元/墨披索  23.9282   0.0757   0.32%  04:59\n",
      "26   美元/阿根廷  67.5850   0.0915   0.14%  04:57\n",
      "27    美元/智利   827.13     6.17   0.75%  04:57\n"
     ]
    }
   ],
   "source": [
    "# ch4_33.py\n",
    "import pandas as pd\n",
    "\n",
    "url = 'http://www.stockq.org/market/currency.php'\n",
    "currencys = pd.read_html(url)                               # 讀取全球匯率行情表\n",
    "\n",
    "currency = currencys[7]                                     # 讀取第7元素\n",
    "currency = currency.drop(currency.index[[0,1]])             # 拋棄前2 row\n",
    "currency.columns = ['貨幣', '匯率', '漲跌', '比例', '台北'] # 建立column標題\n",
    "currency.index = range(len(currency.index))                 # 建立row標題\n",
    "print(currency)"
   ]
  },
  {
   "cell_type": "code",
   "execution_count": null,
   "metadata": {},
   "outputs": [],
   "source": []
  }
 ],
 "metadata": {
  "kernelspec": {
   "display_name": "Python 3",
   "language": "python",
   "name": "python3"
  },
  "language_info": {
   "codemirror_mode": {
    "name": "ipython",
    "version": 3
   },
   "file_extension": ".py",
   "mimetype": "text/x-python",
   "name": "python",
   "nbconvert_exporter": "python",
   "pygments_lexer": "ipython3",
   "version": "3.7.3"
  }
 },
 "nbformat": 4,
 "nbformat_minor": 2
}
